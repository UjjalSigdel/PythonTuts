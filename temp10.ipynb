{
 "cells": [
  {
   "cell_type": "markdown",
   "id": "b75edac3",
   "metadata": {},
   "source": [
    "## Error handling and debugging\n",
    "the try block lets you test a block of code for errors <br>\n",
    "the except block lets you handle the error <br>\n",
    "the else block lets you exxecute code when there is no error <br>\n",
    "the finally block block lets you execute code,regradless of the result of the try and except blocks"
   ]
  },
  {
   "cell_type": "markdown",
   "id": "4e241e0d",
   "metadata": {},
   "source": []
  },
  {
   "cell_type": "code",
   "execution_count": null,
   "id": "9fd179ee",
   "metadata": {},
   "outputs": [
    {
     "name": "stdout",
     "output_type": "stream",
     "text": [
      "Hello\n",
      "Nothing went wrong\n",
      "Everthing went good\n"
     ]
    }
   ],
   "source": [
    "try:\n",
    "    print(\"Hello\")\n",
    "except:\n",
    "    print(\"Something went wrong\")\n",
    "else:\n",
    "    print(\"Nothing went wrong\")\n",
    "finally:\n",
    "    print(\"Everthing is completed regardless of error or no error\")"
   ]
  },
  {
   "cell_type": "code",
   "execution_count": 2,
   "id": "198954cf",
   "metadata": {},
   "outputs": [
    {
     "ename": "SyntaxError",
     "evalue": "invalid syntax (2224131795.py, line 1)",
     "output_type": "error",
     "traceback": [
      "  \u001b[36mCell\u001b[39m\u001b[36m \u001b[39m\u001b[32mIn[2]\u001b[39m\u001b[32m, line 1\u001b[39m\n\u001b[31m    \u001b[39m\u001b[31mdef divide(10,0):\u001b[39m\n               ^\n\u001b[31mSyntaxError\u001b[39m\u001b[31m:\u001b[39m invalid syntax\n"
     ]
    }
   ],
   "source": [
    "def divide(10,0):\n",
    "    try: \n",
    "        result = a/b\n",
    "    except ZeroDivisionError:\n",
    "        print(\"Error: cannot divide by zero\")\n",
    "    else:\n",
    "        print(f\"Result:\"{result})\n",
    "    finally:\n",
    "        print(\"Completed\")"
   ]
  },
  {
   "cell_type": "code",
   "execution_count": 5,
   "id": "dbbea8d9",
   "metadata": {},
   "outputs": [
    {
     "name": "stdout",
     "output_type": "stream",
     "text": [
      "10\n",
      "Error: division by zero\n",
      "Everthing is completed regardless of error or no error\n"
     ]
    }
   ],
   "source": [
    "x = 10\n",
    "try:\n",
    "    print(x)\n",
    "    print(10/0)\n",
    "except NameError as e:\n",
    "    print(f'Error :{e}')\n",
    "    print(\"Nothing went wrong\")\n",
    "except ZeroDivisionError as e:\n",
    "    print(\"Error:\",e)\n",
    "else:\n",
    "    print(\"Nothing went wrong\")\n",
    "finally:\n",
    "    print(\"Everthing is completed regardless of error or no error\")\n"
   ]
  },
  {
   "cell_type": "code",
   "execution_count": 6,
   "id": "4e6ba473",
   "metadata": {},
   "outputs": [
    {
     "name": "stdout",
     "output_type": "stream",
     "text": [
      "Result 5.0\n",
      "Operation completed\n"
     ]
    }
   ],
   "source": [
    "def divide(a,b):\n",
    "    try:\n",
    "        result = a/b\n",
    "    except ZeroDivisionError:\n",
    "        print(\"Error: Cannot divide by zero\")\n",
    "    else:\n",
    "        print(\"Result\",result)\n",
    "    finally:\n",
    "        print(\"Operation completed\")\n",
    "\n",
    "divide(10,2)"
   ]
  },
  {
   "cell_type": "markdown",
   "id": "e18590ec",
   "metadata": {},
   "source": [
    "## Custom exception"
   ]
  },
  {
   "cell_type": "code",
   "execution_count": 9,
   "id": "d98f5782",
   "metadata": {},
   "outputs": [
    {
     "name": "stdout",
     "output_type": "stream",
     "text": [
      "Custom error: Cannot take square root of a negative number\n"
     ]
    }
   ],
   "source": [
    "class NegativeNumberError(Exception):\n",
    "    \"\"\"Exception raised when a negative number is prodived\"\"\"\n",
    "    pass\n",
    "\n",
    "def square_root(x):\n",
    "    if x<0:\n",
    "        raise NegativeNumberError(\"Cannot take square root of a negative number\")\n",
    "    return x ** 0.5\n",
    "\n",
    "try:\n",
    "    result = square_root(-9)\n",
    "except NegativeNumberError as e:\n",
    "    print(\"Custom error:\",e)"
   ]
  },
  {
   "cell_type": "code",
   "execution_count": 1,
   "id": "fe7d0261",
   "metadata": {},
   "outputs": [
    {
     "name": "stdout",
     "output_type": "stream",
     "text": [
      "Error: Enter a valid number\n"
     ]
    }
   ],
   "source": [
    "class InvalidAgeError(Exception):\n",
    "    pass\n",
    "# class ValueError(Exception):\n",
    "#     pass\n",
    "\n",
    "def AgeValidator(x):\n",
    "    if x<0 or x>120:\n",
    "        raise InvalidAgeError(\"Age can not be less than 0 or greater than 120\")\n",
    "    # if x!= type(int):\n",
    "    #     raise ValueError(\"Enter valid age\")\n",
    "    \n",
    "try:\n",
    "    age = int(input(\"Enter the age\"))\n",
    "    AgeValidator(age)\n",
    "\n",
    "except ValueError:\n",
    "    print(\"Error: Enter a valid number\")\n",
    "\n",
    "except InvalidAgeError as e:\n",
    "    print(e)\n",
    "\n",
    "else:\n",
    "    print(\"Your age is \",age)"
   ]
  },
  {
   "cell_type": "code",
   "execution_count": 22,
   "id": "db74a890",
   "metadata": {},
   "outputs": [
    {
     "data": {
      "text/plain": [
       "False"
      ]
     },
     "execution_count": 22,
     "metadata": {},
     "output_type": "execute_result"
    }
   ],
   "source": [
    "isinstance(10.12, int)"
   ]
  },
  {
   "cell_type": "markdown",
   "id": "dad0d470",
   "metadata": {},
   "source": [
    "## Logging\n",
    "Logging in python is a way to record message that describe what you program is doing <br>\n",
    "these message can help you debug, monitor behaviour, or just understand whats going on under the hood"
   ]
  },
  {
   "cell_type": "code",
   "execution_count": 1,
   "id": "21ef0792",
   "metadata": {},
   "outputs": [
    {
     "name": "stderr",
     "output_type": "stream",
     "text": [
      "WARNING:root:This is a warning message\n",
      "ERROR:root:THis is an error message\n",
      "CRITICAL:root:This is a critical mesage\n"
     ]
    }
   ],
   "source": [
    "import logging\n",
    " #Basic configuration\n",
    "# logging.basicConfig(level=logging.DEBUG)\n",
    "logging.basicConfig(level=logging.WARNING)\n",
    "logging.debug(\"This a debug message\") #detailed info something might be wrong\n",
    "logging.info(\"This is an info message\")\n",
    "logging.warning(\"This is a warning message\")\n",
    "logging.error(\"THis is an error message\")\n",
    "logging.critical(\"This is a critical mesage\")"
   ]
  },
  {
   "cell_type": "markdown",
   "id": "ad1fceea",
   "metadata": {},
   "source": [
    "## Formatting the log messages\n",
    "%(asctime)s: The time the message was logged.\n",
    "\n",
    "%(name)s: The name of the logger.\n",
    "\n",
    "%(levelname)s: The log level.\n",
    "\n",
    "%(message)s: The log message itself.\n",
    "\n",
    "%(filename)s: The filename of the module that the logger is created in.\n",
    "\n",
    "%(lineno)d: The line number of the module that the logger is created in.\n",
    "\n",
    "%(funcName)s: The name of the function that the logger is created in."
   ]
  },
  {
   "cell_type": "markdown",
   "id": "1eb2f3c1",
   "metadata": {},
   "source": []
  },
  {
   "cell_type": "code",
   "execution_count": 1,
   "id": "5166d459",
   "metadata": {},
   "outputs": [],
   "source": [
    "import logging\n",
    "\n",
    "logging.basicConfig(\n",
    "    filename='app.log',\n",
    "    level=logging.INFO,\n",
    "    format='%(asctime)s - %(levelname)s - %(message)s'\n",
    ")\n",
    "\n",
    "logging.info(\"App started\")"
   ]
  },
  {
   "cell_type": "code",
   "execution_count": null,
   "id": "86ce9a3c",
   "metadata": {},
   "outputs": [],
   "source": [
    "logging.debug(\"This is a debug message\")\n"
   ]
  },
  {
   "cell_type": "code",
   "execution_count": 2,
   "id": "90e4b7a4",
   "metadata": {},
   "outputs": [],
   "source": [
    "def add(a, b):\n",
    "    logging.info(\"adding two numbers\")\n",
    "    return a + b"
   ]
  },
  {
   "cell_type": "code",
   "execution_count": 3,
   "id": "6e80b777",
   "metadata": {},
   "outputs": [
    {
     "data": {
      "text/plain": [
       "12"
      ]
     },
     "execution_count": 3,
     "metadata": {},
     "output_type": "execute_result"
    }
   ],
   "source": [
    "add(10, 2)"
   ]
  },
  {
   "cell_type": "code",
   "execution_count": null,
   "id": "538a31c1",
   "metadata": {},
   "outputs": [],
   "source": []
  }
 ],
 "metadata": {
  "kernelspec": {
   "display_name": "tutorial-env",
   "language": "python",
   "name": "python3"
  },
  "language_info": {
   "codemirror_mode": {
    "name": "ipython",
    "version": 3
   },
   "file_extension": ".py",
   "mimetype": "text/x-python",
   "name": "python",
   "nbconvert_exporter": "python",
   "pygments_lexer": "ipython3",
   "version": "3.13.3"
  }
 },
 "nbformat": 4,
 "nbformat_minor": 5
}
