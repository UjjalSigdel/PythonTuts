{
 "cells": [
  {
   "cell_type": "markdown",
   "id": "3e97998c",
   "metadata": {},
   "source": [
    "## List comprehension\n"
   ]
  },
  {
   "cell_type": "code",
   "execution_count": 2,
   "id": "f274cbd3",
   "metadata": {},
   "outputs": [
    {
     "name": "stdout",
     "output_type": "stream",
     "text": [
      "<class 'list'>\n",
      "[1, 4, 9, 16, 25, 36, 49]\n"
     ]
    }
   ],
   "source": [
    "li = [1,2,3,4,5,6,7]\n",
    "output_li = [x ** 2 for x in li]\n",
    "print(type(output_li))\n",
    "print(output_li)"
   ]
  },
  {
   "cell_type": "markdown",
   "id": "d9f66dcb",
   "metadata": {},
   "source": [
    "## Generator"
   ]
  },
  {
   "cell_type": "code",
   "execution_count": 22,
   "id": "fdd4eb91",
   "metadata": {},
   "outputs": [
    {
     "name": "stdout",
     "output_type": "stream",
     "text": [
      "<class 'generator'>\n",
      "<generator object <genexpr> at 0x7fe6627b4ba0>\n"
     ]
    }
   ],
   "source": [
    "li = [1,2,3,4,5,6]\n",
    "generator_example = ( x **2 for x in li)\n",
    "print(type(generator_example)) #<class 'generator'>\n",
    "print(generator_example)"
   ]
  },
  {
   "cell_type": "code",
   "execution_count": 3,
   "id": "a8851984",
   "metadata": {},
   "outputs": [
    {
     "name": "stdout",
     "output_type": "stream",
     "text": [
      "1\n",
      "4\n",
      "9\n",
      "16\n",
      "25\n",
      "36\n",
      "49\n"
     ]
    }
   ],
   "source": [
    "for square in generator_example:\n",
    "    print(square)"
   ]
  },
  {
   "cell_type": "code",
   "execution_count": 23,
   "id": "1b6e223f",
   "metadata": {},
   "outputs": [
    {
     "name": "stdout",
     "output_type": "stream",
     "text": [
      "1\n",
      "4\n",
      "9\n",
      "16\n",
      "25\n",
      "36\n"
     ]
    }
   ],
   "source": [
    "print(next(generator_example))\n",
    "print(next(generator_example))\n",
    "print(next(generator_example))\n",
    "print(next(generator_example))\n",
    "print(next(generator_example))\n",
    "print(next(generator_example))"
   ]
  },
  {
   "cell_type": "code",
   "execution_count": 14,
   "id": "ffd73e67",
   "metadata": {},
   "outputs": [
    {
     "name": "stdout",
     "output_type": "stream",
     "text": [
      "1\n",
      "4\n",
      "9\n",
      "16\n",
      "25\n",
      "36\n"
     ]
    }
   ],
   "source": [
    "for num in generator_example:\n",
    "    print(num)"
   ]
  },
  {
   "cell_type": "markdown",
   "id": "7f2839b6",
   "metadata": {},
   "source": [
    "## Stop iteration error\n"
   ]
  },
  {
   "cell_type": "code",
   "execution_count": 16,
   "id": "f249219c",
   "metadata": {},
   "outputs": [],
   "source": [
    "def fun1():\n",
    "    yield 1\n",
    "    yield 2\n",
    "    yield 3"
   ]
  },
  {
   "cell_type": "code",
   "execution_count": 20,
   "id": "8139ca98",
   "metadata": {},
   "outputs": [
    {
     "name": "stdout",
     "output_type": "stream",
     "text": [
      "<class 'generator'>\n",
      "1\n",
      "2\n",
      "3\n"
     ]
    },
    {
     "ename": "StopIteration",
     "evalue": "",
     "output_type": "error",
     "traceback": [
      "\u001b[31m---------------------------------------------------------------------------\u001b[39m",
      "\u001b[31mStopIteration\u001b[39m                             Traceback (most recent call last)",
      "\u001b[36mCell\u001b[39m\u001b[36m \u001b[39m\u001b[32mIn[20]\u001b[39m\u001b[32m, line 6\u001b[39m\n\u001b[32m      4\u001b[39m \u001b[38;5;28mprint\u001b[39m(\u001b[38;5;28mnext\u001b[39m(generator))\n\u001b[32m      5\u001b[39m \u001b[38;5;28mprint\u001b[39m(\u001b[38;5;28mnext\u001b[39m(generator))\n\u001b[32m----> \u001b[39m\u001b[32m6\u001b[39m \u001b[38;5;28mprint\u001b[39m(\u001b[38;5;28;43mnext\u001b[39;49m\u001b[43m(\u001b[49m\u001b[43mgenerator\u001b[49m\u001b[43m)\u001b[49m)\n",
      "\u001b[31mStopIteration\u001b[39m: "
     ]
    }
   ],
   "source": [
    "generator = fun1()\n",
    "print(type(generator))\n",
    "print(next(generator))\n",
    "print(next(generator))\n",
    "print(next(generator))\n",
    "print(next(generator))\n"
   ]
  },
  {
   "cell_type": "markdown",
   "id": "7ce97f3a",
   "metadata": {},
   "source": [
    "# Generator using class\n"
   ]
  },
  {
   "cell_type": "code",
   "execution_count": null,
   "id": "09043d9a",
   "metadata": {},
   "outputs": [],
   "source": [
    "class Counter:\n",
    "    def __init__(self,max):\n",
    "        self.max = max\n",
    "        self.current = 0\n",
    "\n",
    "    def __iter(self):\n",
    "        return self\n",
    "\n",
    "    def __next__(self):\n",
    "        if self.current < self.max:\n",
    "            num = self.current\n",
    "            self.current += 1\n",
    "            return num\n",
    "        \n",
    "    "
   ]
  },
  {
   "cell_type": "markdown",
   "id": "9eb83e23",
   "metadata": {},
   "source": [
    "## Generator function"
   ]
  },
  {
   "cell_type": "code",
   "execution_count": 27,
   "id": "94d143cd",
   "metadata": {},
   "outputs": [],
   "source": [
    "def my_generator(n):\n",
    "    value = 0\n",
    "    while value <0:\n",
    "        yield value\n",
    "        value +=1\n"
   ]
  },
  {
   "cell_type": "code",
   "execution_count": 31,
   "id": "44386652",
   "metadata": {},
   "outputs": [],
   "source": [
    "k = 100\n",
    "gen = my_generator(k)\n",
    "for num in gen:\n",
    "    pass\n",
    "    print(num)\n",
    "\n",
    "gen_list = list(range(k))"
   ]
  },
  {
   "cell_type": "markdown",
   "id": "5661d024",
   "metadata": {},
   "source": [
    "## Memory Efficiency"
   ]
  },
  {
   "cell_type": "code",
   "execution_count": 32,
   "id": "0b32d74c",
   "metadata": {},
   "outputs": [
    {
     "name": "stdout",
     "output_type": "stream",
     "text": [
      "Memory used by generator: 192 bytes\n",
      "Memory used by list     : 856 bytes\n"
     ]
    }
   ],
   "source": [
    "import sys \n",
    "\n",
    "print(\"Memory used by generator:\", sys.getsizeof(gen), \"bytes\")\n",
    "print(\"Memory used by list     :\", sys.getsizeof(gen_list), \"bytes\")"
   ]
  },
  {
   "cell_type": "code",
   "execution_count": 36,
   "id": "79a7e98d",
   "metadata": {},
   "outputs": [
    {
     "name": "stdout",
     "output_type": "stream",
     "text": [
      "30\n"
     ]
    }
   ],
   "source": [
    "# Argument and Paramter in Normal Function\n",
    "def add(x,y):\n",
    "    return x+y\n",
    "\n",
    "addition_result = add(10,20) # 10 and 20 are the arguments\n",
    "print(addition_result) #print 30"
   ]
  },
  {
   "cell_type": "markdown",
   "id": "a5d12673",
   "metadata": {},
   "source": [
    "# Pass function as an Arugument\n",
    "just like we can pass intergers or other data etype as an arugument in  fucntions, we can also pass one function as an argument in another function"
   ]
  },
  {
   "cell_type": "markdown",
   "id": "10c1826b",
   "metadata": {},
   "source": []
  },
  {
   "cell_type": "code",
   "execution_count": 37,
   "id": "82c9ad51",
   "metadata": {},
   "outputs": [
    {
     "name": "stdout",
     "output_type": "stream",
     "text": [
      "10\n"
     ]
    }
   ],
   "source": [
    "#example of pass function as an argument \n",
    "# pass add(...) function as an argument in calculate() function\n",
    "def add(x,y):\n",
    "    return x+y\n",
    "\n",
    "def calculate(func,x,y):\n",
    "    return func(x,y)\n",
    "\n",
    "result = calculate(add,4,6)\n",
    "print(result)\n"
   ]
  },
  {
   "cell_type": "markdown",
   "id": "5f45e744",
   "metadata": {},
   "source": [
    "## Nested function\n",
    "function inside a function"
   ]
  },
  {
   "cell_type": "code",
   "execution_count": 40,
   "id": "3dfca255",
   "metadata": {},
   "outputs": [
    {
     "name": "stdout",
     "output_type": "stream",
     "text": [
      "i=1, j=1\n",
      "i=1, j=2\n",
      "i=1, j=3\n",
      "i=2, j=1\n",
      "i=2, j=2\n",
      "i=2, j=3\n",
      "i=3, j=1\n",
      "i=3, j=2\n",
      "i=3, j=3\n"
     ]
    }
   ],
   "source": [
    "#Nexted for loop example\n",
    "for i in range(1,4):\n",
    "    for j in range(1,4):\n",
    "        print(f'i={i}, j={j}')"
   ]
  },
  {
   "cell_type": "code",
   "execution_count": 42,
   "id": "c2c2f30a",
   "metadata": {},
   "outputs": [
    {
     "name": "stdout",
     "output_type": "stream",
     "text": [
      "Hi welcome to outer function\n",
      "Hi welcome to inner function\n",
      "Hello Ujjal!\n"
     ]
    }
   ],
   "source": [
    "#An example for nexted fucntion\n",
    "def greeting(name): ##Outer function\n",
    "    print(\"Hi welcome to outer function\")\n",
    "    def hello(): ##INner function\n",
    "        print(\"Hi welcome to inner function\")\n",
    "        return \"Hello \" + name + \"!\"\n",
    "    \n",
    "    return hello\n",
    "\n",
    "greet = greeting(\"Ujjal\")\n",
    "print(greet())"
   ]
  },
  {
   "cell_type": "markdown",
   "id": "16aa2342",
   "metadata": {},
   "source": [
    "## Return function as a value\n",
    "return inner wfunction as a value from outer function"
   ]
  },
  {
   "cell_type": "code",
   "execution_count": 45,
   "id": "f00d10cb",
   "metadata": {},
   "outputs": [
    {
     "name": "stdout",
     "output_type": "stream",
     "text": [
      "11\n"
     ]
    }
   ],
   "source": [
    "def outer(x):\n",
    "    def inner(y):\n",
    "        return x+y\n",
    "    return inner\n",
    "add_five = outer(5)\n",
    "result = add_five(6)\n",
    "print(result)"
   ]
  },
  {
   "cell_type": "markdown",
   "id": "7925cfff",
   "metadata": {},
   "source": [
    "## Python decorators\n",
    "\n",
    "python decorators is a function that takesa function as an argument and returns it by adding some functionality"
   ]
  },
  {
   "cell_type": "code",
   "execution_count": null,
   "id": "34173bea",
   "metadata": {},
   "outputs": [
    {
     "name": "stdout",
     "output_type": "stream",
     "text": [
      "I get decorated\n",
      "I am ordinary\n",
      "Decoration complete\n"
     ]
    }
   ],
   "source": [
    "#this is the decorator function\n",
    "def make_pretty(func):\n",
    "    def inner():\n",
    "        print(\"I get decorated\") ## added functionality\n",
    "        func()\n",
    "        print(\"Decoration complete\")\n",
    "    return inner\n",
    "\n",
    "def ordinary():\n",
    "    print(\"I am ordinary\")\n",
    "\n",
    "decorated_func = make_pretty(ordinary)\n",
    "decorated_func()\n",
    "\n",
    "\"\"\"make_pretty is a decorator function \"\"\""
   ]
  },
  {
   "cell_type": "markdown",
   "id": "232340a1",
   "metadata": {},
   "source": [
    "# @Symbol with a decorator\n",
    "instead of assinging the function call to a variable, Python provides a much more elegant way to achieve this functionality using the @symbol"
   ]
  },
  {
   "cell_type": "code",
   "execution_count": 47,
   "id": "7c797398",
   "metadata": {},
   "outputs": [
    {
     "name": "stdout",
     "output_type": "stream",
     "text": [
      "I get decorated\n",
      "I am ordinary\n",
      "Decoration complete\n"
     ]
    },
    {
     "data": {
      "text/plain": [
       "'make_pretty is a decorator function '"
      ]
     },
     "execution_count": 47,
     "metadata": {},
     "output_type": "execute_result"
    }
   ],
   "source": [
    "#this is the decorator function\n",
    "def make_pretty(func):\n",
    "    def inner():\n",
    "        print(\"I get decorated\") ## added functionality\n",
    "        func()\n",
    "        print(\"Decoration complete\")\n",
    "    return inner\n",
    "@make_pretty\n",
    "def ordinary():\n",
    "    print(\"I am ordinary\")\n",
    "\n",
    "ordinary()\n",
    "\n",
    "\"\"\"make_pretty is a decorator function \"\"\""
   ]
  },
  {
   "cell_type": "code",
   "execution_count": null,
   "id": "e2886b10",
   "metadata": {},
   "outputs": [],
   "source": []
  }
 ],
 "metadata": {
  "kernelspec": {
   "display_name": "tutorial-env",
   "language": "python",
   "name": "python3"
  },
  "language_info": {
   "codemirror_mode": {
    "name": "ipython",
    "version": 3
   },
   "file_extension": ".py",
   "mimetype": "text/x-python",
   "name": "python",
   "nbconvert_exporter": "python",
   "pygments_lexer": "ipython3",
   "version": "3.13.3"
  }
 },
 "nbformat": 4,
 "nbformat_minor": 5
}
