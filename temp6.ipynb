{
 "cells": [
  {
   "cell_type": "markdown",
   "id": "e75a793c",
   "metadata": {},
   "source": [
    "# lambda function\n",
    "lambda function are small unnamed fucntions defined using keyword lambda\n",
    "syntax: lambda  arguments: expression\n"
   ]
  },
  {
   "cell_type": "markdown",
   "id": "b7492de4",
   "metadata": {},
   "source": []
  },
  {
   "cell_type": "code",
   "execution_count": 5,
   "id": "e2f0388a",
   "metadata": {},
   "outputs": [
    {
     "name": "stdout",
     "output_type": "stream",
     "text": [
      "6\n",
      "10\n"
     ]
    }
   ],
   "source": [
    "\n",
    "multiply = lambda a,b,c: a*b*c\n",
    "result = multiply(1,2,3)\n",
    "print(result)\n",
    "add = lambda a,b,c: a+b+c\n",
    "print(add(2,3,5))"
   ]
  },
  {
   "cell_type": "code",
   "execution_count": 4,
   "id": "cf1c2b32",
   "metadata": {},
   "outputs": [
    {
     "name": "stdout",
     "output_type": "stream",
     "text": [
      "27\n"
     ]
    }
   ],
   "source": [
    "cube = lambda a: a**3\n",
    "result =cube(3)\n",
    "print(result)"
   ]
  },
  {
   "cell_type": "markdown",
   "id": "ea01840f",
   "metadata": {},
   "source": [
    "# Funciton tools: map(),filter(),zip(),reduce()\n",
    "## map()\n",
    "* applies a function to each item in an iterable"
   ]
  },
  {
   "cell_type": "code",
   "execution_count": 9,
   "id": "a18f7d76",
   "metadata": {},
   "outputs": [
    {
     "name": "stdout",
     "output_type": "stream",
     "text": [
      "[1, 125, 216, 27]\n",
      "[1, 25, 36, 9]\n"
     ]
    }
   ],
   "source": [
    "# lambda x: x**3\n",
    "input_list = [1,5,6,3]\n",
    "output_list = list(map(lambda x: x**3,input_list))\n",
    "print(output_list)\n",
    "#for square\n",
    "squares = list(map(lambda x : x**2,input_list))\n",
    "print(squares)\n"
   ]
  },
  {
   "cell_type": "code",
   "execution_count": null,
   "id": "6457bcfd",
   "metadata": {},
   "outputs": [
    {
     "name": "stdout",
     "output_type": "stream",
     "text": [
      "[25, 6, 49, 8]\n"
     ]
    }
   ],
   "source": [
    "nums = [5,6,7,8]\n",
    "# return square if odd or else return same number\n",
    "def squareFUnction(x):\n",
    "    if x%2==0:\n",
    "        return x\n",
    "    else:\n",
    "        return x**2\n",
    "squares = list(map(squareFUnction,nums))\n",
    "print(squares)"
   ]
  },
  {
   "cell_type": "code",
   "execution_count": 14,
   "id": "484b3273",
   "metadata": {},
   "outputs": [
    {
     "data": {
      "text/plain": [
       "<map at 0x7f88183f2920>"
      ]
     },
     "execution_count": 14,
     "metadata": {},
     "output_type": "execute_result"
    }
   ],
   "source": [
    "##returns map object\n",
    "map(squareFUnction,nums)"
   ]
  },
  {
   "cell_type": "code",
   "execution_count": null,
   "id": "ee5b4c41",
   "metadata": {},
   "outputs": [
    {
     "name": "stdout",
     "output_type": "stream",
     "text": [
      "['UJJAL', 'PRINCE', 'DARSHAN', 'NIRAD']\n"
     ]
    }
   ],
   "source": [
    "#converting list of strings to uppercase\n",
    "strings_words = [\"ujjal\",\"prince\",\"darshan\",\"nirad\"]\n",
    "uppercase = list(map(lambda word: word.upper(),strings_words))\n",
    "print(uppercase)"
   ]
  },
  {
   "cell_type": "code",
   "execution_count": 18,
   "id": "00cb6229",
   "metadata": {},
   "outputs": [
    {
     "name": "stdout",
     "output_type": "stream",
     "text": [
      "[53.6, 73.4, 75.2, 132.8, -40.0, 32.0]\n"
     ]
    }
   ],
   "source": [
    "#celcius to fahrenheit\n",
    "cel_temp = [12,23,24,56,-40,0]\n",
    "fah_temp = list(map(lambda x: x*1.8 + 32,cel_temp))\n",
    "print(fah_temp)"
   ]
  },
  {
   "cell_type": "markdown",
   "id": "5a0e791f",
   "metadata": {},
   "source": [
    "# Filter()\n",
    "* Filter items based on condition"
   ]
  },
  {
   "cell_type": "code",
   "execution_count": null,
   "id": "b6230481",
   "metadata": {},
   "outputs": [
    {
     "name": "stdout",
     "output_type": "stream",
     "text": [
      "[2, 3, 4, 4, 6, 8]\n"
     ]
    }
   ],
   "source": [
    "num_list = [1,2,3,4,4,5,6,7,8]\n",
    "#return number divisible by 2 or 3\n",
    "output_list=list(filter(lambda x: x %2==0 or x%3==0,num_list))\n",
    "print(output_list)"
   ]
  },
  {
   "cell_type": "code",
   "execution_count": 9,
   "id": "d5671874",
   "metadata": {},
   "outputs": [
    {
     "name": "stdout",
     "output_type": "stream",
     "text": [
      "['apple', 'bannana', 'hari']\n"
     ]
    }
   ],
   "source": [
    "#use filter to extract all non-empty strings from a list\n",
    "nam_list = ['apple','bannana','','hari']\n",
    "def check_empty(nam):\n",
    "        return len(nam)!=0\n",
    "\n",
    "\n",
    "\n",
    "out_list = list(filter(check_empty,nam_list))\n",
    "print(out_list)"
   ]
  },
  {
   "cell_type": "code",
   "execution_count": 11,
   "id": "e998fb77",
   "metadata": {},
   "outputs": [
    {
     "name": "stdout",
     "output_type": "stream",
     "text": [
      "[3, 6]\n"
     ]
    }
   ],
   "source": [
    "n_list = [1,2,3,4,5,6,7]\n",
    "def check_div(n):\n",
    "    return n%3==0\n",
    "out_list = list(filter(check_div,n_list))\n",
    "print(out_list)"
   ]
  },
  {
   "cell_type": "code",
   "execution_count": 17,
   "id": "b13e8940",
   "metadata": {},
   "outputs": [
    {
     "name": "stdout",
     "output_type": "stream",
     "text": [
      "['apple', 'avacado']\n"
     ]
    }
   ],
   "source": [
    "strings_list = ['apple','bannana','cherry','avacado']\n",
    "def a_start(stri):\n",
    "    return stri[0]=='a' or stri[0]=='A'\n",
    "out_list = list(filter(a_start,strings_list))\n",
    "print(out_list)"
   ]
  },
  {
   "cell_type": "code",
   "execution_count": 25,
   "id": "59c86838",
   "metadata": {},
   "outputs": [
    {
     "name": "stdout",
     "output_type": "stream",
     "text": [
      "[1, 3, 5, 7]\n"
     ]
    }
   ],
   "source": [
    "#Use filter() to extract all prime numbers from a list of integers.\n",
    "n_list = [1,2,3,4,5,6,7]\n",
    "def check_div(n):\n",
    "    count = 0\n",
    "    for i in range(n):\n",
    "        if n%2==0:\n",
    "            count = count +1\n",
    "    return count==0\n",
    "\n",
    "out_list = list(filter(check_div,n_list))\n",
    "print(out_list) "
   ]
  },
  {
   "cell_type": "markdown",
   "id": "60eff6ca",
   "metadata": {},
   "source": [
    "# Zip\n",
    "combines multiple iterables into tuple"
   ]
  },
  {
   "cell_type": "markdown",
   "id": "583891a6",
   "metadata": {},
   "source": []
  },
  {
   "cell_type": "code",
   "execution_count": 24,
   "id": "dd70d039",
   "metadata": {},
   "outputs": [
    {
     "name": "stdout",
     "output_type": "stream",
     "text": [
      "[('Alice', 85), ('Bob', 90), ('Charlie', 95), ('John', 100)]\n",
      "{'Alice': 85, 'Bob': 90, 'Charlie': 95, 'John': 100}\n",
      "[('Alice', 85), ('Bob', 90), ('Charlie', 95), ('John', 100), ('Ujjal', 45)]\n"
     ]
    }
   ],
   "source": [
    "names = ['Alice','Bob','Charlie','John']\n",
    "scores = [85,90,95,100]\n",
    "combined = list(zip(names,scores))\n",
    "print(combined)\n",
    "#for dictionary\n",
    "combined = dict(zip(names,scores))\n",
    "print(combined)\n",
    "#for uneven combination the smallre one is paired and the extras are ignored\n",
    "names = ['Alice','Bob','Charlie','John',\"Ujjal\"]\n",
    "scores = [85,90,95,100,45,0]\n",
    "combined = list(zip(names,scores))\n",
    "print(combined)"
   ]
  },
  {
   "cell_type": "markdown",
   "id": "b08696d0",
   "metadata": {},
   "source": [
    "# reduce\n",
    "\n",
    "* reduces an interable to a single value using a function\n",
    "* needs to be imported from functools"
   ]
  },
  {
   "cell_type": "code",
   "execution_count": 37,
   "id": "5250ea12",
   "metadata": {},
   "outputs": [
    {
     "name": "stdout",
     "output_type": "stream",
     "text": [
      "24\n",
      "10\n",
      "4\n"
     ]
    }
   ],
   "source": [
    "from functools import reduce\n",
    "nums = [1,2,3,4]\n",
    "#product of all the terms\n",
    "product = reduce(lambda x,y : x*y,nums)\n",
    "print(product)\n",
    "#sum of all the terms\n",
    "sum = reduce(lambda x,y: x+y,nums)\n",
    "print(sum)\n",
    "#max no in a list\n",
    "max = reduce(lambda x,y: x if x>y else y,nums)\n",
    "print(max)"
   ]
  },
  {
   "cell_type": "code",
   "execution_count": null,
   "id": "7f838dbc",
   "metadata": {},
   "outputs": [],
   "source": []
  }
 ],
 "metadata": {
  "kernelspec": {
   "display_name": "tutorial-env",
   "language": "python",
   "name": "python3"
  },
  "language_info": {
   "codemirror_mode": {
    "name": "ipython",
    "version": 3
   },
   "file_extension": ".py",
   "mimetype": "text/x-python",
   "name": "python",
   "nbconvert_exporter": "python",
   "pygments_lexer": "ipython3",
   "version": "3.13.3"
  }
 },
 "nbformat": 4,
 "nbformat_minor": 5
}
