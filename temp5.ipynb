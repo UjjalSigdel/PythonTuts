{
 "cells": [
  {
   "cell_type": "code",
   "execution_count": null,
   "id": "f4258b17",
   "metadata": {},
   "outputs": [
    {
     "name": "stdout",
     "output_type": "stream",
     "text": [
      "The words are\n",
      "sigdel : {'ujjal': 2, 'sigdel': 1}\n"
     ]
    }
   ],
   "source": [
    "words =[]\n",
    "n = int(input(\"Enter the number of words: \"))\n",
    "out_words = {}\n",
    "for i in range(n):\n",
    "    word = input()\n",
    "    words.append(word)\n",
    "print(\"The words are\")\n",
    "for word in words:\n",
    "    if word in out_words.keys():\n",
    "        out_words[word] += 1\n",
    "    else:\n",
    "        out_words[word] = 1\n",
    "print(word, \":\", out_words)\n",
    "\n",
    "\n",
    "# for w in words:\n",
    "#     if w not in out_words.keys():\n",
    "#         out_words[w] = 1\n",
    "#     else:\n",
    "#         out_words[w] += 1"
   ]
  },
  {
   "cell_type": "code",
   "execution_count": null,
   "id": "4b8567f5",
   "metadata": {},
   "outputs": [
    {
     "name": "stdout",
     "output_type": "stream",
     "text": [
      "{'Alice': 84.33333333333333, 'Bob': 71.66666666666667, 'Charlie': 95.0}\n"
     ]
    }
   ],
   "source": [
    "grades = {\n",
    "    'Alice': [85, 90, 78],\n",
    "    'Bob': [70, 80, 65],\n",
    "    'Charlie': [100, 95, 90]\n",
    "}\n",
    "o_dictionary = {}\n",
    "for score in grades.items():\n",
    "    student_name, scores = score # Unpacking the \n",
    "    average_score = sum(scores) / len(scores) # Calculate average\n",
    "    o_dictionary[student_name] = average_score # Store in new dictionary\n",
    "print(o_dictionary)"
   ]
  },
  {
   "cell_type": "code",
   "execution_count": 13,
   "id": "6ece112b",
   "metadata": {},
   "outputs": [
    {
     "name": "stdout",
     "output_type": "stream",
     "text": [
      "{'Alice': 84.33333333333333, 'Bob': 71.66666666666667, 'Charlie': 95.0}\n"
     ]
    }
   ],
   "source": [
    "def average_scores(grades):\n",
    "    o_dictionary = {}\n",
    "    for student_name, scores in grades.items():\n",
    "        average_score = sum(scores) / len(scores)\n",
    "        o_dictionary[student_name] = average_score\n",
    "    return o_dictionary\n",
    "grades = {\n",
    "    'Alice': [85, 90, 78],\n",
    "    'Bob': [70, 80, 65],\n",
    "    'Charlie': [100, 95, 90]\n",
    "}\n",
    "avg_out = average_scores(grades)\n",
    "print(avg_out)"
   ]
  },
  {
   "cell_type": "markdown",
   "id": "3aa8d459",
   "metadata": {},
   "source": [
    "# Default parameters, keyword arguments and docstrings"
   ]
  },
  {
   "cell_type": "code",
   "execution_count": 18,
   "id": "c7f34b47",
   "metadata": {},
   "outputs": [
    {
     "name": "stdout",
     "output_type": "stream",
     "text": [
      "9\n",
      "8\n",
      "Help on function power in module __main__:\n",
      "\n",
      "power(base, exponent=2)\n",
      "    base is raised to the power of exponent, default is 2\n",
      "    input: base, exponent\n",
      "    output: base raised to the power of exponent\n",
      "\n",
      "base is raised to the power of exponent, default is 2\n",
      "input: base, exponent\n",
      "output: base raised to the power of exponent\n",
      "\n"
     ]
    }
   ],
   "source": [
    "def power(base,exponent=2):\n",
    "    \"\"\"base is raised to the power of exponent, default is 2\n",
    "    input: base, exponent\n",
    "    output: base raised to the power of exponent\n",
    "    \"\"\"\n",
    "\n",
    "    return base ** exponent\n",
    "print(power(3))\n",
    "print((power(base=2, exponent=3)))\n",
    "help(power)\n",
    "print(power.__doc__ ) # Output: base is raised to the power of exponent, default is 2"
   ]
  },
  {
   "cell_type": "code",
   "execution_count": null,
   "id": "98515b6b",
   "metadata": {},
   "outputs": [
    {
     "name": "stdout",
     "output_type": "stream",
     "text": [
      "Hello Ujjal\n",
      "10\n"
     ]
    }
   ],
   "source": [
    "def greet(name,message=\"welcome\"):\n",
    "    print(message,name)\n",
    "greet(name=\"Ujjal\",message=\"Hello\")\n",
    "\n",
    "def multiply(a,b=2):\n",
    "    \"\"\"Multiply a by b, default is 2\"\"\"\n",
    "    return a * b\n",
    "result = multiply(5)\n",
    "print(result) \n"
   ]
  },
  {
   "cell_type": "markdown",
   "id": "4d337962",
   "metadata": {},
   "source": [
    "# *args and **kargs\n",
    "\n",
    "    *args allows variable number of positional arguments.\n",
    "    **kwargs allows variable number of keyword arguments.\n",
    "\n"
   ]
  },
  {
   "cell_type": "code",
   "execution_count": 28,
   "id": "d7d26e9f",
   "metadata": {},
   "outputs": [
    {
     "name": "stdout",
     "output_type": "stream",
     "text": [
      "(1, 2, 3, 4)\n",
      "<class 'tuple'>\n"
     ]
    }
   ],
   "source": [
    "def tempFunction(*args):\n",
    "    print(args)\n",
    "    print(type(args))\n",
    "tempFunction(1,2,3,4)"
   ]
  },
  {
   "cell_type": "code",
   "execution_count": 29,
   "id": "4ee75a73",
   "metadata": {},
   "outputs": [
    {
     "name": "stdout",
     "output_type": "stream",
     "text": [
      "{'name': 'Ujjal', 'location': 'chitwan'}\n",
      "Ujjal\n"
     ]
    }
   ],
   "source": [
    "def tempFunction1(**kargs):\n",
    "    print(kargs)\n",
    "    print(kargs['name'])\n",
    "tempFunction1(name = \"Ujjal\",location='chitwan')\n"
   ]
  },
  {
   "cell_type": "code",
   "execution_count": 33,
   "id": "93e02e22",
   "metadata": {},
   "outputs": [
    {
     "name": "stdout",
     "output_type": "stream",
     "text": [
      "Inside the function 20\n",
      "10\n",
      "Outside the function 10\n"
     ]
    }
   ],
   "source": [
    "x=10\n",
    "\n",
    "def funct():\n",
    "    x=20\n",
    "    print(\"Inside the function\",x)\n",
    "def funct2():\n",
    "    print(x)\n",
    "funct()\n",
    "funct2()\n",
    "print(\"Outside the function\",x)"
   ]
  },
  {
   "cell_type": "code",
   "execution_count": 45,
   "id": "cd6bbc4a",
   "metadata": {},
   "outputs": [
    {
     "name": "stdout",
     "output_type": "stream",
     "text": [
      "{'cat', 'apple'}\n",
      "4\n"
     ]
    }
   ],
   "source": [
    "def common_elements(list1,list2):\n",
    "    return (set(list1).intersection(set(list2)))\n",
    "list1 = ['apple','banana','cat']\n",
    "list2 = ['coco','dog','cat','ele','apple']\n",
    "list3 = {}\n",
    "list3 =common_elements(list1,list2)\n",
    "print(list3)\n",
    "\n",
    "def common_elements(list1,list2):\n",
    "    list4 = []\n",
    "    for elements in list1:\n",
    "        if elements in list2:\n",
    "            list4.append(elements)\n",
    "    print(list4)\n",
    "list4 = [1,2,3,4,5]\n",
    "list4.sort()\n",
    "list4=(list4[::-1])\n",
    "print(list4[1])\n"
   ]
  },
  {
   "cell_type": "code",
   "execution_count": null,
   "id": "07b66a2d",
   "metadata": {},
   "outputs": [],
   "source": [
    "#rotate the list\n",
    "def rotate_list(list,k):\n",
    "\n",
    "lst = [1,2,3,4,5,6,7] "
   ]
  },
  {
   "cell_type": "code",
   "execution_count": 46,
   "id": "d8e0ee1d",
   "metadata": {},
   "outputs": [
    {
     "name": "stdout",
     "output_type": "stream",
     "text": [
      "Help on built-in function sort:\n",
      "\n",
      "sort(*, key=None, reverse=False) method of builtins.list instance\n",
      "    Sort the list in ascending order and return None.\n",
      "\n",
      "    The sort is in-place (i.e. the list itself is modified) and stable (i.e. the\n",
      "    order of two equal elements is maintained).\n",
      "\n",
      "    If a key function is given, apply it once to each list item and sort them,\n",
      "    ascending or descending, according to their function values.\n",
      "\n",
      "    The reverse flag can be set to sort in descending order.\n",
      "\n"
     ]
    }
   ],
   "source": [
    "ldt = [2, 3, 5, 3, 4]\n",
    "help(ldt.sort)"
   ]
  }
 ],
 "metadata": {
  "kernelspec": {
   "display_name": "tutorial-env",
   "language": "python",
   "name": "python3"
  },
  "language_info": {
   "codemirror_mode": {
    "name": "ipython",
    "version": 3
   },
   "file_extension": ".py",
   "mimetype": "text/x-python",
   "name": "python",
   "nbconvert_exporter": "python",
   "pygments_lexer": "ipython3",
   "version": "3.13.3"
  }
 },
 "nbformat": 4,
 "nbformat_minor": 5
}
