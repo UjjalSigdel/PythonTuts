{
 "cells": [
  {
   "cell_type": "code",
   "execution_count": 19,
   "id": "823194eb",
   "metadata": {},
   "outputs": [
    {
     "name": "stdout",
     "output_type": "stream",
     "text": [
      "Account : Ujjal and location: Kathmandu\n",
      "Your balance is 10000\n",
      "Your account has been deposited by RS:  500\n"
     ]
    }
   ],
   "source": [
    "class BankAccount:\n",
    "    def __init__(self,n,l,b,branch):\n",
    "        self.name =n\n",
    "        self.location = l\n",
    "        self.balance = b\n",
    "        self.branch = branch\n",
    "\n",
    "    def __str__(self):\n",
    "        return f\"Account : {self.name} and location: {self.location}\"\n",
    "    \n",
    "    def viewBalance(self):\n",
    "        print(\"Your balance is\",self.balance)\n",
    "\n",
    "    def depositAmount(self,amount):\n",
    "        self.balance = self.balance+amount\n",
    "        print(\"Your account has been deposited by RS: \",amount)\n",
    "\n",
    "\n",
    "ujjal_account = BankAccount(n= 'Ujjal', l='Kathmandu', b=10000, branch='Kritipur' )\n",
    "print(ujjal_account)\n",
    "ujjal_account.viewBalance()\n",
    "ujjal_account.depositAmount(500)\n",
    "    \n"
   ]
  },
  {
   "cell_type": "code",
   "execution_count": 21,
   "id": "41618e34",
   "metadata": {},
   "outputs": [
    {
     "name": "stdout",
     "output_type": "stream",
     "text": [
      "Employee : Ujjal \n",
      " salary : 100000\n",
      "Salary of Ujjal has been increased by 10% and total salary = 110000.0\n",
      "Employee : Ujjal \n",
      " salary : 110000.0\n"
     ]
    }
   ],
   "source": [
    "class Employee:\n",
    "    def __init__(self,name,salary):\n",
    "        self.name = name\n",
    "        self.salary = salary\n",
    "\n",
    "    def increaseSalary(self,increament_percent):\n",
    "        self.salary = self.salary + increament_percent / 100 * self.salary\n",
    "        print(f'Salary of {self.name} has been increased by {increament_percent}% and total salary = {self.salary}')\n",
    "\n",
    "    def __str__(self):\n",
    "        return f'Employee : {self.name} \\n salary : {self.salary}'\n",
    "\n",
    "employee1 = Employee('Ujjal',100000)\n",
    "print(employee1)\n",
    "\n",
    "employee1.increaseSalary(increament_percent=10)\n",
    "print(employee1)"
   ]
  },
  {
   "cell_type": "code",
   "execution_count": 4,
   "id": "c88d15c9",
   "metadata": {},
   "outputs": [
    {
     "name": "stdout",
     "output_type": "stream",
     "text": [
      "Ujjal\n",
      "Dear Ujjal, your 248051500000224 has total balance NPR. 10000\n",
      "Dear Ujjal, your 248051500000224 has been deposited by NPR. 500\n",
      "Dear Ujjal, your 248051500000224 has total balance NPR. 10500\n",
      "Dear Ujjal, your 248051500000224 has been withdrawn by NPR. 1000\n",
      "Dear Ujjal, your 248051500000224 has total balance NPR. 9500\n"
     ]
    }
   ],
   "source": [
    "class BankAccount2:\n",
    "    def __init__(self,a,name,b):\n",
    "        self.a =a\n",
    "        self.name = name\n",
    "        self.b = b\n",
    "\n",
    "    def addBalance(self,balance):\n",
    "        self.b = balance + self.b\n",
    "        print(f\"Dear {self.name}, your {self.a} has been deposited by NPR. {balance}\")\n",
    "\n",
    "    def subtractBalance(self,balance):\n",
    "        self.b = self.b - balance\n",
    "        print(f\"Dear {self.name}, your {self.a} has been withdrawn by NPR. {balance}\")\n",
    "\n",
    "    def viewBalance(self):\n",
    "        print(f\"Dear {self.name}, your {self.a} has total balance NPR. {self.b}\")\n",
    "\n",
    "    def __str__(self):\n",
    "        return f'{self.name}'\n",
    "\n",
    "my_account2 = BankAccount2(248051500000224,'Ujjal',10000)\n",
    "print(my_account2)\n",
    "my_account2.viewBalance()\n",
    "my_account2.addBalance(500)\n",
    "my_account2.viewBalance()\n",
    "my_account2.subtractBalance(1000)\n",
    "my_account2.viewBalance()\n",
    "\n",
    "\n"
   ]
  },
  {
   "cell_type": "code",
   "execution_count": null,
   "id": "ee23ca1e",
   "metadata": {},
   "outputs": [],
   "source": []
  }
 ],
 "metadata": {
  "kernelspec": {
   "display_name": "tutorial-env",
   "language": "python",
   "name": "python3"
  },
  "language_info": {
   "codemirror_mode": {
    "name": "ipython",
    "version": 3
   },
   "file_extension": ".py",
   "mimetype": "text/x-python",
   "name": "python",
   "nbconvert_exporter": "python",
   "pygments_lexer": "ipython3",
   "version": "3.13.3"
  }
 },
 "nbformat": 4,
 "nbformat_minor": 5
}
