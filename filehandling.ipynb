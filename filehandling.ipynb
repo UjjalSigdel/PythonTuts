{
 "cells": [
  {
   "cell_type": "code",
   "execution_count": null,
   "id": "ec3ba32c",
   "metadata": {},
   "outputs": [],
   "source": [
    "##open the file\n",
    "file = open('sample.txt','r')\n",
    "print(file)\n",
    " #close the file\n",
    "file.close()\n"
   ]
  },
  {
   "cell_type": "markdown",
   "id": "3faa969e",
   "metadata": {},
   "source": [
    "## Reading from a text file\n",
    "1) read()"
   ]
  },
  {
   "cell_type": "code",
   "execution_count": null,
   "id": "7fdc325f",
   "metadata": {},
   "outputs": [
    {
     "name": "stdout",
     "output_type": "stream",
     "text": [
      "I\n",
      "\n",
      "a\n",
      "m\n",
      "\n",
      "U\n",
      "j\n",
      "j\n",
      "a\n",
      "l\n",
      "\n",
      "S\n",
      "i\n",
      "g\n",
      "d\n",
      "e\n",
      "l\n",
      "\n",
      "M\n",
      "y\n",
      "\n",
      "f\n",
      "r\n",
      "i\n",
      "e\n",
      "n\n",
      "d\n",
      "s\n",
      "\n",
      "c\n",
      "a\n",
      "l\n",
      "l\n",
      "\n",
      "m\n",
      "e\n",
      "\n",
      "C\n",
      "R\n",
      "<class 'str'>\n"
     ]
    }
   ],
   "source": [
    "with open('sample.txt','r') as file:\n",
    "    content = file.read()\n",
    "    print(content)\n",
    "# for line in content:\n",
    "#     print(line.strip()) #prints individual letters\n",
    "\n",
    "print(type(content))"
   ]
  },
  {
   "cell_type": "markdown",
   "id": "84577f32",
   "metadata": {},
   "source": [
    "2) readline()\n",
    "\n",
    "    Reads a single line at a time.\n",
    "\n"
   ]
  },
  {
   "cell_type": "code",
   "execution_count": null,
   "id": "f9729b69",
   "metadata": {},
   "outputs": [
    {
     "name": "stdout",
     "output_type": "stream",
     "text": [
      "I am Ujjal Sigdel\n",
      "\n",
      "My friends call me CR\n"
     ]
    }
   ],
   "source": [
    "with open('sample.txt','r') as file:\n",
    "    line1 = file.readline()\n",
    "    line2 = file.readline()\n",
    "\n",
    "print(line1)\n",
    "print(line2)"
   ]
  },
  {
   "cell_type": "markdown",
   "id": "aab348e4",
   "metadata": {},
   "source": [
    "3) readlines()\n",
    "Reads all lines and returns a list of strings."
   ]
  },
  {
   "cell_type": "markdown",
   "id": "71d92c8a",
   "metadata": {},
   "source": []
  },
  {
   "cell_type": "code",
   "execution_count": null,
   "id": "f8ca7894",
   "metadata": {},
   "outputs": [
    {
     "name": "stdout",
     "output_type": "stream",
     "text": [
      "I am Ujjal Sigdel\n",
      "My friends call me CR\n"
     ]
    }
   ],
   "source": [
    "with open('sample.txt','r') as file:\n",
    "    lines = file.readlines()\n",
    "\n",
    "for line in lines:\n",
    "    print(line.strip())"
   ]
  },
  {
   "cell_type": "markdown",
   "id": "11e7c2a0",
   "metadata": {},
   "source": [
    "## Writing to a file\n",
    "1) write()\n",
    "writes a string to a file"
   ]
  },
  {
   "cell_type": "markdown",
   "id": "55493cb8",
   "metadata": {},
   "source": []
  },
  {
   "cell_type": "code",
   "execution_count": 10,
   "id": "2898e786",
   "metadata": {},
   "outputs": [],
   "source": [
    "with open('example.txt','w' ) as file:\n",
    "    file.write(\"Hello, World\\n\")\n",
    "    file.write(\"Writing to a file in Python.\")"
   ]
  },
  {
   "cell_type": "markdown",
   "id": "ba3be1ed",
   "metadata": {},
   "source": [
    "2) writelines()\n",
    "\n",
    "\n",
    "writes a list of strings to the file"
   ]
  },
  {
   "cell_type": "code",
   "execution_count": 12,
   "id": "9c44b750",
   "metadata": {},
   "outputs": [],
   "source": [
    "lines = [\"apple\\n\",\"Mango\\n\",\"Banna\\n\"]\n",
    "with open(\"example.txt\",\"w\") as file:\n",
    "    file.writelines(lines)"
   ]
  },
  {
   "cell_type": "markdown",
   "id": "f64a281f",
   "metadata": {},
   "source": [
    "## Appending to a text file\n",
    "use mode 'a\" or \"a+\"\n"
   ]
  },
  {
   "cell_type": "markdown",
   "id": "1ef42d08",
   "metadata": {},
   "source": []
  },
  {
   "cell_type": "code",
   "execution_count": 14,
   "id": "6dbef25c",
   "metadata": {},
   "outputs": [],
   "source": [
    "with open(\"sample.txt\",'a') as file:\n",
    "    file.write(\"\\nThis line is an append\")"
   ]
  },
  {
   "cell_type": "markdown",
   "id": "ae91bd8f",
   "metadata": {},
   "source": [
    "## Reading and writing simultaneously"
   ]
  },
  {
   "cell_type": "code",
   "execution_count": null,
   "id": "1f91871d",
   "metadata": {},
   "outputs": [
    {
     "name": "stdout",
     "output_type": "stream",
     "text": [
      "apple\n",
      "Mango\n",
      "Banna\n",
      "\n"
     ]
    }
   ],
   "source": [
    "with open('example.txt',\"r+\") as file:\n",
    "    content = file.read()\n",
    "    print(content)\n",
    "    \n",
    "    file.seek(0)\n",
    "    file.write(\"Modified: \"+content)"
   ]
  },
  {
   "cell_type": "code",
   "execution_count": null,
   "id": "37d4d899",
   "metadata": {},
   "outputs": [],
   "source": []
  },
  {
   "cell_type": "markdown",
   "id": "dfc45670",
   "metadata": {},
   "source": [
    "## Writing data to a JSON file"
   ]
  },
  {
   "cell_type": "code",
   "execution_count": 21,
   "id": "1f309742",
   "metadata": {},
   "outputs": [],
   "source": [
    "import json\n",
    "data = {\n",
    "    \"name\" : \"ujjal sigdel\",\n",
    "    \"age\" : 19,\n",
    "    \"hobbies\" : [\"sleeping\",\"eating\"]\n",
    "}\n",
    "\n",
    "with open(\"sample_json.json\",\"w\") as file:\n",
    "    json.dump(data,file,indent=4)"
   ]
  },
  {
   "cell_type": "markdown",
   "id": "7f984f7f",
   "metadata": {},
   "source": [
    "## Reading data from a JSON file"
   ]
  },
  {
   "cell_type": "code",
   "execution_count": null,
   "id": "0b3f7ec1",
   "metadata": {},
   "outputs": [
    {
     "name": "stdout",
     "output_type": "stream",
     "text": [
      "{'name': 'ujjal sigdel', 'age': 19, 'hobbies': ['sleeping', 'eating']}\n",
      "<class 'dict'>\n"
     ]
    }
   ],
   "source": [
    "with open(\"sample_json.json\",\"r\") as file:\n",
    "    loaded_data = json.load(file)\n",
    "\n",
    "print(loaded_data)\n",
    "print(type(loaded_data))"
   ]
  },
  {
   "cell_type": "markdown",
   "id": "b1b007dc",
   "metadata": {},
   "source": [
    "## Modifying JSON data and saving"
   ]
  },
  {
   "cell_type": "code",
   "execution_count": 23,
   "id": "497d199a",
   "metadata": {},
   "outputs": [],
   "source": [
    "loaded_data['age'] = 16 #existing update\n",
    "loaded_data['city'] = \"kathmandu\" #new update\n",
    "\n",
    "with open(\"sample_json.json\",'w') as file:\n",
    "    json.dump(loaded_data,file,indent =4)\n"
   ]
  },
  {
   "cell_type": "markdown",
   "id": "efd07da4",
   "metadata": {},
   "source": [
    "## JSON string --> Python object"
   ]
  },
  {
   "cell_type": "code",
   "execution_count": 24,
   "id": "86a64578",
   "metadata": {},
   "outputs": [
    {
     "name": "stdout",
     "output_type": "stream",
     "text": [
      "{'language': 'Python', 'version': 3.1}\n"
     ]
    }
   ],
   "source": [
    "json_string = '{\"language\": \"Python\", \"version\": 3.10}'\n",
    "python_data = json.loads(json_string)\n",
    "\n",
    "print(python_data)"
   ]
  },
  {
   "cell_type": "markdown",
   "id": "f9dc3762",
   "metadata": {},
   "source": [
    "## Python object --> JSON string"
   ]
  },
  {
   "cell_type": "code",
   "execution_count": 26,
   "id": "a8e6841e",
   "metadata": {},
   "outputs": [
    {
     "name": "stdout",
     "output_type": "stream",
     "text": [
      "{\n",
      "  \"framework\": \"FastAPI\",\n",
      "  \"type\": \"web\"\n",
      "}\n"
     ]
    }
   ],
   "source": [
    "data = {\"framework\": \"FastAPI\", \"type\": \"web\"}\n",
    "json_str = json.dumps(data, indent=2)\n",
    "\n",
    "print(json_str)\n",
    "\n"
   ]
  },
  {
   "cell_type": "code",
   "execution_count": null,
   "id": "15a84721",
   "metadata": {},
   "outputs": [
    {
     "name": "stdout",
     "output_type": "stream",
     "text": [
      "{'name': 'ujjal sigdel', 'age': 18, 'fav_book': 'Manga'}\n",
      "{'name': 'ujjal sigdel', 'age': 18, 'fav_book': 'Manga', 'hobby': 'sleeping'}\n"
     ]
    }
   ],
   "source": [
    "my_dic = {\n",
    "    \"name\" : \"ujjal sigdel\",\n",
    "    \"age\" : 18,\n",
    "    \"fav_book\" : \"Manga\"\n",
    "}\n",
    "with open(\"mydata.json\",\"w\") as file: #writing\n",
    "    json.dump(my_dic,file,indent=4)\n",
    "# file.close() #closes automatically\n",
    "with open(\"mydata.json\",'r') as file: #reading\n",
    "    load_data = json.load(file)\n",
    "# file.close() #closes automatically\n",
    "print(load_data)\n",
    "my_dic['hobby'] = \"sleeping\" \n",
    "with open(\"mydata.json\",\"w\") as file: #modifying\n",
    "    json.dump(my_dic,file,indent=4)\n",
    "# file.close() #closes automatically\n",
    "with open(\"mydata.json\",'r') as file: #reading\n",
    "    load_data = json.load(file)\n",
    "# file.close() #closes automatically\n",
    "print(load_data)\n",
    "\n",
    "\n"
   ]
  },
  {
   "cell_type": "code",
   "execution_count": null,
   "id": "f42ed765",
   "metadata": {},
   "outputs": [],
   "source": []
  },
  {
   "cell_type": "code",
   "execution_count": null,
   "id": "4890ad15",
   "metadata": {},
   "outputs": [],
   "source": []
  }
 ],
 "metadata": {
  "kernelspec": {
   "display_name": "tutorial-env",
   "language": "python",
   "name": "python3"
  },
  "language_info": {
   "codemirror_mode": {
    "name": "ipython",
    "version": 3
   },
   "file_extension": ".py",
   "mimetype": "text/x-python",
   "name": "python",
   "nbconvert_exporter": "python",
   "pygments_lexer": "ipython3",
   "version": "3.13.3"
  }
 },
 "nbformat": 4,
 "nbformat_minor": 5
}
