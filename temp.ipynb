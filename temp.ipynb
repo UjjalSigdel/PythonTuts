{
 "cells": [
  {
   "cell_type": "code",
   "execution_count": null,
   "id": "38db917b",
   "metadata": {},
   "outputs": [
    {
     "name": "stdout",
     "output_type": "stream",
     "text": [
      "name\n",
      "age\n",
      "1000\n",
      "3.14\n"
     ]
    }
   ],
   "source": [
    "print(\"name\")\n",
    "print(\"age\")\n",
    "salary= input(\"Enter you salary: \")\n",
    "print(salary)\n",
    "PI = 3.14\n",
    "print(PI)\n"
   ]
  },
  {
   "cell_type": "code",
   "execution_count": 14,
   "id": "5402d01d",
   "metadata": {},
   "outputs": [
    {
     "name": "stdout",
     "output_type": "stream",
     "text": [
      "(2+5j)\n",
      "<class 'complex'>\n"
     ]
    }
   ],
   "source": [
    "a=2+5j\n",
    "print(a)\n",
    "print(type(a))"
   ]
  },
  {
   "cell_type": "code",
   "execution_count": 18,
   "id": "58ccbe2b",
   "metadata": {},
   "outputs": [
    {
     "name": "stdout",
     "output_type": "stream",
     "text": [
      "10\n",
      "10\n"
     ]
    }
   ],
   "source": [
    "x_string = '10'\n",
    "x_int = int(x_string)\n",
    "\n",
    "print(x_int)\n",
    "print(x_string)"
   ]
  },
  {
   "cell_type": "code",
   "execution_count": 16,
   "id": "b2283b2a",
   "metadata": {},
   "outputs": [
    {
     "name": "stdout",
     "output_type": "stream",
     "text": [
      "<class 'int'>\n",
      "<class 'str'>\n"
     ]
    }
   ],
   "source": [
    "print(type(x_int))\n",
    "print(type(x_string))"
   ]
  },
  {
   "cell_type": "code",
   "execution_count": null,
   "id": "4d0ed946",
   "metadata": {},
   "outputs": [
    {
     "name": "stdout",
     "output_type": "stream",
     "text": [
      "13.0\n"
     ]
    }
   ],
   "source": [
    "a= int(input(\"Enter a number: \"))\n",
    "b= (input(\"Enter another number: \"))\n",
    "b= int(b)\n",
    "c= float(input(\"Enter a float number: \"))\n",
    "print(a + b+ c)"
   ]
  },
  {
   "cell_type": "code",
   "execution_count": null,
   "id": "81891836",
   "metadata": {},
   "outputs": [
    {
     "name": "stdout",
     "output_type": "stream",
     "text": [
      "John\n",
      "Doe\n",
      "John\n",
      "Doe\n",
      "Ujjal Sigdel\n"
     ]
    }
   ],
   "source": [
    "#using single quotes\n",
    "first_name = 'John'\n",
    "#using double quotes\n",
    "last_name = \"Doe\"\n",
    "#using triple quotes\n",
    "full_name = \"\"\"John\n",
    "Doe\n",
    "Ujjal Sigdel\"\"\"\n",
    "print(first_name)\n",
    "print(last_name)print(full_name)"
   ]
  },
  {
   "cell_type": "code",
   "execution_count": 29,
   "id": "44a396f3",
   "metadata": {},
   "outputs": [
    {
     "name": "stdout",
     "output_type": "stream",
     "text": [
      "n\n",
      "o\n",
      "h\n",
      "t\n",
      "y\n",
      "P\n"
     ]
    },
    {
     "ename": "IndexError",
     "evalue": "string index out of range",
     "output_type": "error",
     "traceback": [
      "\u001b[31m---------------------------------------------------------------------------\u001b[39m",
      "\u001b[31mIndexError\u001b[39m                                Traceback (most recent call last)",
      "\u001b[36mCell\u001b[39m\u001b[36m \u001b[39m\u001b[32mIn[29]\u001b[39m\u001b[32m, line 10\u001b[39m\n\u001b[32m      7\u001b[39m \u001b[38;5;28mprint\u001b[39m  (text[-\u001b[32m6\u001b[39m])  \u001b[38;5;66;03m# p\u001b[39;00m\n\u001b[32m      9\u001b[39m \u001b[38;5;66;03m#index out of range\u001b[39;00m\n\u001b[32m---> \u001b[39m\u001b[32m10\u001b[39m \u001b[38;5;28mprint\u001b[39m(\u001b[43mtext\u001b[49m\u001b[43m[\u001b[49m\u001b[32;43m6\u001b[39;49m\u001b[43m]\u001b[49m) \u001b[38;5;66;03m#IndexError: string index out of range\u001b[39;00m\n\u001b[32m     11\u001b[39m \u001b[38;5;28mprint\u001b[39m(text[-\u001b[32m7\u001b[39m]) \u001b[38;5;66;03m#IndexError: string index out of range\u001b[39;00m\n",
      "\u001b[31mIndexError\u001b[39m: string index out of range"
     ]
    }
   ],
   "source": [
    "text= \"Python\"\n",
    "print(text[-1]) #n\n",
    "print(text[-2]) #o\n",
    "print(text[-3]) #h\n",
    "print(text[-4]) #t\n",
    "print(text[-5]) #y\n",
    "print  (text[-6])  # p\n",
    "\n",
    "#index out of range\n",
    "print(text[6]) #IndexError: string index out of range\n",
    "print(text[-7]) #IndexError: string index out of range"
   ]
  },
  {
   "cell_type": "code",
   "execution_count": 34,
   "id": "a3a9046e",
   "metadata": {},
   "outputs": [
    {
     "name": "stdout",
     "output_type": "stream",
     "text": [
      "Py\n",
      "thon\n",
      "Py\n",
      "tho\n",
      "Python\n",
      "Pto\n",
      "Pto\n",
      "nohtyP\n",
      "nt\n",
      "Pytho\n",
      "hon\n",
      "ho\n",
      "\n",
      "no\n",
      "nohtyP\n"
     ]
    }
   ],
   "source": [
    "#string slicing\n",
    "print(text[0:2]) #Py [start:stop]\n",
    "print(text[2:])  #thon\n",
    "print(text[:2])  #Py\n",
    "print(text[2:5]) #tho\n",
    "print(text[0:6]) #Python\n",
    "print(text[0:6:2]) #Pto [start:stop:step]\n",
    "print(text[::2]) #Pto [start:stop:step]\n",
    "print(text[::-1]) #nohtyP [reverse string]\n",
    "print(text[::-3]) #nt [reverse string with step]\n",
    "print(text[:-1]) #Pytho\n",
    "print(text[-3:]) #hon\n",
    "print(text[-3:-1]) #ho [start:stop]\n",
    "print(text[-1:-3]) #'' [empty string, start > stop]\n",
    "print(text[-1:-3:-1]) #no [reverse slicing, start > stop]\n",
    "print(text[-1::-1]) #nohtyP [reverse slicing, start > stop]"
   ]
  },
  {
   "cell_type": "code",
   "execution_count": null,
   "id": "da689cb1",
   "metadata": {},
   "outputs": [
    {
     "name": "stdout",
     "output_type": "stream",
     "text": [
      "140286984296752\n",
      "hello world \n",
      "140286984296240\n",
      "hello world P\n"
     ]
    }
   ],
   "source": [
    "a=\"hello world \"\n",
    "print(id(a))  #id of the object\n",
    "print(a)\n",
    "a = a + \"Python\"\n",
    "print(id(a))  #id of the object after modification\n",
    "print(a)"
   ]
  },
  {
   "cell_type": "code",
   "execution_count": 39,
   "id": "31c0ddc0",
   "metadata": {},
   "outputs": [
    {
     "name": "stdout",
     "output_type": "stream",
     "text": [
      "hello\n",
      "HELLO\n",
      "Hello World\n",
      "Hello world\n",
      "hELLO WORLD\n",
      "Hello Python\n",
      "6\n",
      "2\n",
      "True\n"
     ]
    }
   ],
   "source": [
    "# String methods\n",
    "print(\"Hello\".lower())\n",
    "print(\"hello\".upper())\n",
    "print(\"Hello world\".title())\n",
    "print(\"Hello world\".capitalize())\n",
    "print(\"Hello world\".swapcase())\n",
    "print(\"Hello world\".replace(\"world\", \"Python\"))\n",
    "print(\"Hello world\".find(\"world\"))  # returns the index of the first occurrence\n",
    "print(\"Hello world\".count(\"o\"))  # returns the number of occurrences\n",
    "print(\"Hello world\".startswith(\"Hello\"))  # returns True if the string starts with \"Hello\""
   ]
  },
  {
   "cell_type": "markdown",
   "id": "275fe794",
   "metadata": {},
   "source": [
    "Exercise"
   ]
  },
  {
   "cell_type": "code",
   "execution_count": null,
   "id": "2ce8bcd9",
   "metadata": {},
   "outputs": [],
   "source": []
  }
 ],
 "metadata": {
  "kernelspec": {
   "display_name": "tutorial-env",
   "language": "python",
   "name": "python3"
  },
  "language_info": {
   "codemirror_mode": {
    "name": "ipython",
    "version": 3
   },
   "file_extension": ".py",
   "mimetype": "text/x-python",
   "name": "python",
   "nbconvert_exporter": "python",
   "pygments_lexer": "ipython3",
   "version": "3.13.3"
  }
 },
 "nbformat": 4,
 "nbformat_minor": 5
}
