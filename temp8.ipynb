{
 "cells": [
  {
   "cell_type": "code",
   "execution_count": null,
   "id": "49bebcd2",
   "metadata": {},
   "outputs": [
    {
     "name": "stdout",
     "output_type": "stream",
     "text": [
      "Ujjal\n"
     ]
    }
   ],
   "source": [
    "class PlayerCharacter:\n",
    "    membership = True # Class attribute (value same for all objects)\n",
    "    def __init__(self,name):\n",
    "        self.name = name\n",
    "\n",
    "    def shout(self):\n",
    "        if PlayerCharacter.membership:\n",
    "            return self.name\n",
    "            #return PlayerCharacter.name # This gives error because name is class attribute\n",
    "        else:\n",
    "            return \"No Membership\"\n",
    "\n",
    "obj1 = PlayerCharacter(\"Ujjal\")\n",
    "print(obj1.shout()) #Ujjal"
   ]
  },
  {
   "cell_type": "markdown",
   "id": "2e383985",
   "metadata": {},
   "source": [
    "# Data scopes\n",
    "private protected and public\n",
    "\n",
    "    Using the single underscore makes protected members or methods, but it doesn’t actually do anything other than provide suggestion to other programmers not to use them.\n",
    "    A double underscore is a bit tricker. These are refers as private members or methods, but they aren’t really private either since we can still access it.\n"
   ]
  },
  {
   "cell_type": "code",
   "execution_count": 12,
   "id": "7551c2e6",
   "metadata": {},
   "outputs": [
    {
     "name": "stdout",
     "output_type": "stream",
     "text": [
      "24\n",
      "Run\n",
      "24\n"
     ]
    }
   ],
   "source": [
    "\n",
    "\n",
    "class PlayerCharacter:\n",
    "    def __init__(self, name, age):\n",
    "        self._name = name        # Protected member\n",
    "        self.__age = age         # Private member\n",
    "\n",
    "    def _run(self):              # Protected method\n",
    "        print(\"Run\")\n",
    "        print(self.__age)\n",
    "\n",
    "player1 = PlayerCharacter(\"Nirajan\", 24)\n",
    "\n",
    "# Direct access to __age will raise an AttributeError\n",
    "# print(player1.__age)          # AttributeError\n",
    "\n",
    "# Correct way to access the private variable (not recommended in practice)\n",
    "print(player1._PlayerCharacter__age)  # This will print: 24\n",
    "\n",
    "# player1._run()\n",
    "\n",
    "player1._run()\n"
   ]
  },
  {
   "cell_type": "markdown",
   "id": "76d2765c",
   "metadata": {},
   "source": [
    "## Inheritance\n",
    "Inheritance allows us to define a class that inherits all the methods and properties from another class.\n",
    "\n",
    "Parent class is the class being inherited from, also called base class.\n",
    "\n",
    "Child class is the class that inherits from another class, also called derived class."
   ]
  },
  {
   "cell_type": "code",
   "execution_count": 13,
   "id": "cec554da",
   "metadata": {},
   "outputs": [
    {
     "name": "stdout",
     "output_type": "stream",
     "text": [
      "Arjun Attacking with 100 arrows\n",
      "Logged in\n",
      "Ujjal Attacking with power of 20\n"
     ]
    }
   ],
   "source": [
    "class User(): #Parent class\n",
    "    def sign_in(self):\n",
    "        print(\"Logged in\")\n",
    "\n",
    "class Wizard(User): #Child class\n",
    "    def __init__(self,name,power):\n",
    "        self.name = name\n",
    "        self.power = power\n",
    "\n",
    "    def attack(self):\n",
    "        print(f\"{self.name} Attacking with power of {self.power}\")\n",
    "\n",
    "class Archer(User): #Child class\n",
    "    def __init__(self,name,num_arrows):\n",
    "        self.name = name\n",
    "        self.power = num_arrows\n",
    "\n",
    "    def attack(self):\n",
    "        print(f\"{self.name} Attacking with {self.power} arrows\")\n",
    "\n",
    "archer = Archer('Arjun',100)\n",
    "archer.attack()\n",
    "archer.sign_in() #sign_in function is called from object of Archer class which inherited the User class\n",
    "wizard = Wizard(\"Ujjal\",20)\n",
    "wizard.attack()\n",
    "\n",
    "\n"
   ]
  },
  {
   "cell_type": "markdown",
   "id": "127bf1b1",
   "metadata": {},
   "source": [
    "## Super\n",
    "In inheritance, when we want to use attribute from main class to sub class, we can do as:"
   ]
  },
  {
   "cell_type": "code",
   "execution_count": 15,
   "id": "3012c6b1",
   "metadata": {},
   "outputs": [
    {
     "name": "stdout",
     "output_type": "stream",
     "text": [
      "contact@ujjalsigdel.com.np\n"
     ]
    }
   ],
   "source": [
    "class User(): #Parent class\n",
    "    def __init__(self,email,address):\n",
    "        self.email = email\n",
    "        self.address = address\n",
    "\n",
    "    def attack(self):\n",
    "        print(\"Do nothing\")\n",
    "\n",
    "class Wizard(User): #Child class\n",
    "    def __init__(self, name,power,email,address):\n",
    "        super().__init__(email, address) #can also be done by User.__init__(self,email,address)\n",
    "        self.name = name\n",
    "        self.power = power\n",
    "    \n",
    "    def attack(self):\n",
    "        print(f\"Attacking with power of {self.power}\")\n",
    "\n",
    "\n",
    "wizard1 = Wizard(\"UjjalSigdel\",50,\"contact@ujjalsigdel.com.np\",\"Chitwan\")\n",
    "print(wizard1.email)"
   ]
  },
  {
   "cell_type": "code",
   "execution_count": null,
   "id": "958fbd0c",
   "metadata": {},
   "outputs": [],
   "source": []
  }
 ],
 "metadata": {
  "kernelspec": {
   "display_name": "tutorial-env",
   "language": "python",
   "name": "python3"
  },
  "language_info": {
   "codemirror_mode": {
    "name": "ipython",
    "version": 3
   },
   "file_extension": ".py",
   "mimetype": "text/x-python",
   "name": "python",
   "nbconvert_exporter": "python",
   "pygments_lexer": "ipython3",
   "version": "3.13.3"
  }
 },
 "nbformat": 4,
 "nbformat_minor": 5
}
