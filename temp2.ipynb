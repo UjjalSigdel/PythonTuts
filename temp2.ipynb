{
 "cells": [
  {
   "cell_type": "code",
   "execution_count": 2,
   "id": "439fba41",
   "metadata": {},
   "outputs": [
    {
     "name": "stdout",
     "output_type": "stream",
     "text": [
      "Length of the list: 10\n"
     ]
    }
   ],
   "source": [
    "#creating the list\n",
    "number_list = [1, 2, 3, 4, 5, 6, 7, 8, 9, 10]\n",
    "\n",
    "#get the length of the list\n",
    "length_of_list = len(number_list)\n",
    "print(\"Length of the list:\", length_of_list)"
   ]
  },
  {
   "cell_type": "code",
   "execution_count": 1,
   "id": "2d835794",
   "metadata": {},
   "outputs": [
    {
     "name": "stdout",
     "output_type": "stream",
     "text": [
      "My name is Ujjal Sigdel and I live in Nepal.\n"
     ]
    }
   ],
   "source": [
    "name=\"Ujjal Sigdel\"\n",
    "location=\"Nepal\"\n",
    "sentence = f\"My name is {name} and I live in {location}.\"\n",
    "#display the sentence\n",
    "print(sentence)"
   ]
  },
  {
   "cell_type": "code",
   "execution_count": 4,
   "id": "acff382f",
   "metadata": {},
   "outputs": [
    {
     "name": "stdout",
     "output_type": "stream",
     "text": [
      "Sliced list: [3, 4, 5]\n",
      "Reversed list: [10, 9, 8, 7, 6, 5, 4, 3, 2, 1]\n",
      "[1, 2, 3]\n",
      "[4, 5, 6]\n"
     ]
    }
   ],
   "source": [
    "#slicing the list\n",
    "sliced_list = number_list[2:5]  # Slicing from index 2 to 4\n",
    "#display the sliced list\n",
    "print(\"Sliced list:\", sliced_list)\n",
    "#reversing the list\n",
    "reversed_list = number_list[::-1]\n",
    "print(\"Reversed list:\", reversed_list)\n",
    "\n",
    "print(number_list[:3])\n",
    "print(number_list[3:6])"
   ]
  },
  {
   "cell_type": "code",
   "execution_count": 5,
   "id": "db71046b",
   "metadata": {},
   "outputs": [
    {
     "name": "stdout",
     "output_type": "stream",
     "text": [
      "<class 'list'>\n"
     ]
    }
   ],
   "source": [
    "print(type(number_list))"
   ]
  },
  {
   "cell_type": "code",
   "execution_count": 17,
   "id": "d88e4cc3",
   "metadata": {},
   "outputs": [
    {
     "name": "stdout",
     "output_type": "stream",
     "text": [
      "Girlfriends' names: ['Alice', 'Bob', 'Charlie', 'Diana', 'Eve']\n",
      "Updated girlfriends' names: ['Zara', 'Alice', 'Bob', 'Charlie', 'Diana', 'Eve']\n",
      "Help on built-in function insert:\n",
      "\n",
      "insert(index, object, /) method of builtins.list instance\n",
      "    Insert object before index.\n",
      "\n",
      "After removing Charlie: ['Zara', 'Alice', 'Bob', 'Diana', 'Eve']\n"
     ]
    }
   ],
   "source": [
    "#list of my girlsfriend's names\n",
    "girlfriends = [\"Alice\", \"Bob\", \"Charlie\", \"Diana\"]\n",
    "girlfriends.append(\"Eve\")  # Adding a new name to the list\n",
    "print(\"Girlfriends' names:\", girlfriends)\n",
    "\n",
    "#inseerting a new name at the beginning\n",
    "girlfriends.insert(0, \"Zara\")  # Inserting at the beginning\n",
    "print(\"Updated girlfriends' names:\", girlfriends)\n",
    "\n",
    "help(girlfriends.insert)  # Displaying help for the insert method\n",
    "\n",
    "#removing a name from the list\n",
    "girlfriends.remove(\"Charlie\")  # Removing a name\n",
    "print(\"After removing Charlie:\", girlfriends)"
   ]
  },
  {
   "cell_type": "code",
   "execution_count": 18,
   "id": "7a285865",
   "metadata": {},
   "outputs": [
    {
     "name": "stdout",
     "output_type": "stream",
     "text": [
      "After popping the last name: ['Zara', 'Alice', 'Bob', 'Diana']\n",
      "After popping the second name: ['Zara', 'Bob', 'Diana']\n",
      "['Bob', 'Diana']\n",
      "After re-inserting Zara: ['Zara', 'Bob', 'Diana']\n"
     ]
    }
   ],
   "source": [
    "girlfriends.pop()  # Removing the last name\n",
    "print(\"After popping the last name:\", girlfriends)\n",
    "girlfriends.pop(1)  # Removing the second name\n",
    "print(\"After popping the second name:\", girlfriends)\n",
    "girlfriends.remove(\"Zara\")  # Removing the first name   \n",
    "print(girlfriends)\n",
    "girlfriends.insert(0, \"Zara\")  # Inserting at the beginning\n",
    "print(\"After re-inserting Zara:\", girlfriends)"
   ]
  },
  {
   "cell_type": "code",
   "execution_count": 16,
   "id": "07ae236b",
   "metadata": {},
   "outputs": [
    {
     "name": "stdout",
     "output_type": "stream",
     "text": [
      "Help on method_descriptor:\n",
      "\n",
      "sort(self, /, *, key=None, reverse=False) unbound builtins.list method\n",
      "    Sort the list in ascending order and return None.\n",
      "\n",
      "    The sort is in-place (i.e. the list itself is modified) and stable (i.e. the\n",
      "    order of two equal elements is maintained).\n",
      "\n",
      "    If a key function is given, apply it once to each list item and sort them,\n",
      "    ascending or descending, according to their function values.\n",
      "\n",
      "    The reverse flag can be set to sort in descending order.\n",
      "\n"
     ]
    }
   ],
   "source": [
    "help(list.sort)"
   ]
  },
  {
   "cell_type": "code",
   "execution_count": 52,
   "id": "2cc7312a",
   "metadata": {},
   "outputs": [
    {
     "name": "stdout",
     "output_type": "stream",
     "text": [
      "[2, 5, 8, 10, 43, 47, 56, 88]\n",
      "[88, 56, 47, 43, 10, 8, 5, 2]\n"
     ]
    }
   ],
   "source": [
    "lists=[2,5,8,10,43,56,47,88]\n",
    "lists.sort()\n",
    "print(lists)\n",
    "lists.sort(reverse=True)  # Sorting in reverse order\n",
    "print(lists)"
   ]
  },
  {
   "cell_type": "code",
   "execution_count": null,
   "id": "31f00e6e",
   "metadata": {},
   "outputs": [
    {
     "ename": "SyntaxError",
     "evalue": "invalid syntax (1491835288.py, line 13)",
     "output_type": "error",
     "traceback": [
      "  \u001b[36mCell\u001b[39m\u001b[36m \u001b[39m\u001b[32mIn[34]\u001b[39m\u001b[32m, line 13\u001b[39m\n\u001b[31m    \u001b[39m\u001b[31mdeep_copy_animes =\u001b[39m\n                       ^\n\u001b[31mSyntaxError\u001b[39m\u001b[31m:\u001b[39m invalid syntax\n"
     ]
    }
   ],
   "source": [
    "animes = [\"Naruto\", \"One Piece\", \"Attack on Titan\", \"Death Note\",\"Bleach\",\"My Hero Academia\",\"Solo Leveling\"]\n",
    "print(animes[2])\n",
    "print(animes[-1])\n",
    "print(animes[1:6])\n",
    "print(animes[::-1])\n",
    "# print(animes[-1:-7:-1])\n",
    "animes.sort()\n",
    "print(animes)\n",
    "copy_animes = animes.copy()  # Copying the list\n",
    "print(\"Copied animes list:\", copy_animes)\n",
    "copy_animes[0][0] =5\n",
    "print(\"After modifying copy_animes:\", copy_animes)\n",
    "# deep_copy_animes = \n",
    "animes.pop(2)\n",
    "print(animes) \n",
    "animes.clear()\n",
    "print(animes)\n"
   ]
  },
  {
   "cell_type": "markdown",
   "id": "6c759de6",
   "metadata": {},
   "source": [
    "## Tuple\n",
    "-It is immutable"
   ]
  },
  {
   "cell_type": "code",
   "execution_count": 39,
   "id": "6c4d58c7",
   "metadata": {},
   "outputs": [
    {
     "name": "stdout",
     "output_type": "stream",
     "text": [
      "Simrika Sajani\n",
      "('Simrika', 'Sanjana', 'Sanjita', 'Sanjana')\n"
     ]
    },
    {
     "ename": "AttributeError",
     "evalue": "'tuple' object has no attribute 'sort'",
     "output_type": "error",
     "traceback": [
      "\u001b[31m---------------------------------------------------------------------------\u001b[39m",
      "\u001b[31mAttributeError\u001b[39m                            Traceback (most recent call last)",
      "\u001b[36mCell\u001b[39m\u001b[36m \u001b[39m\u001b[32mIn[39]\u001b[39m\u001b[32m, line 5\u001b[39m\n\u001b[32m      3\u001b[39m \u001b[38;5;28mprint\u001b[39m(artist[\u001b[32m0\u001b[39m],artist[-\u001b[32m1\u001b[39m])\n\u001b[32m      4\u001b[39m \u001b[38;5;28mprint\u001b[39m(artist[\u001b[32m0\u001b[39m:\u001b[32m4\u001b[39m])  \u001b[38;5;66;03m# Slicing the tuple\u001b[39;00m\n\u001b[32m----> \u001b[39m\u001b[32m5\u001b[39m \u001b[43martist\u001b[49m\u001b[43m.\u001b[49m\u001b[43msort\u001b[49m()  \u001b[38;5;66;03m# Sorting the tuple (will create a new sorted tuple)\u001b[39;00m\n\u001b[32m      6\u001b[39m \u001b[38;5;66;03m# print(artist)\u001b[39;00m\n",
      "\u001b[31mAttributeError\u001b[39m: 'tuple' object has no attribute 'sort'"
     ]
    }
   ],
   "source": [
    "artist = (\"Simrika\", \"Sanjana\", \"Sanjita\", \"Sanjana\", \"Sajani\")\n",
    "# aritst.append(\"Saju\")  # Not valid, tuples are immutable\n",
    "print(artist[0],artist[-1])\n",
    "print(artist[0:4])  # Slicing the tuple\n",
    "artist.sort()  # Sorting the tuple (will create a new sorted tuple)\n",
    "# print(artist)"
   ]
  },
  {
   "cell_type": "markdown",
   "id": "348977aa",
   "metadata": {},
   "source": [
    "# Dictionaries\n",
    "dictionaries are used to store data values in key:value parts"
   ]
  },
  {
   "cell_type": "code",
   "execution_count": 47,
   "id": "76400dbe",
   "metadata": {},
   "outputs": [
    {
     "name": "stdout",
     "output_type": "stream",
     "text": [
      "Ujjal Sigdel\n",
      "{'name': 'Ujjal Sigdel', 'age': 25, 'location': 'Nepal', 'hobbies': ['coding', 'reading', 'gaming'], 'city': 'Kathmandu'}\n",
      "{'name': 'Ujjal Sigdel', 'age': 19, 'location': 'Nepal', 'city': 'Kathmandu'}\n",
      "dict_keys(['name', 'age', 'location', 'city'])\n",
      "dict_values(['Ujjal Sigdel', 19, 'Nepal', 'Kathmandu'])\n",
      "dict_items([('name', 'Ujjal Sigdel'), ('age', 19), ('location', 'Nepal'), ('city', 'Kathmandu')])\n"
     ]
    },
    {
     "data": {
      "text/plain": [
       "'Nepal'"
      ]
     },
     "execution_count": 47,
     "metadata": {},
     "output_type": "execute_result"
    }
   ],
   "source": [
    "person = {\n",
    "    \"name\": \"Ujjal Sigdel\",\n",
    "    \"age\": 25,\n",
    "    \"location\": \"Nepal\",\n",
    "    \"hobbies\": [\"coding\", \"reading\", \"gaming\"]\n",
    "}\n",
    "print(person[\"name\"])  # Accessing a value by key\n",
    "\n",
    "#add city\n",
    "person[\"city\"] = \"Kathmandu\"  # Adding a new key-value pair\n",
    "print(person)\n",
    "#update age\n",
    "person[\"age\"] = 19   # Updating an existing key-value pair\n",
    "#delete hobbies\n",
    "del person[\"hobbies\"]\n",
    "print(person)\n",
    "\n",
    "print(person.keys()) # Displaying all keys in the dictionary\n",
    "print(person.values())  # Displaying all values in the dictionary\n",
    "print(person.items())  # Displaying all key-value pairs in the dictionary\n",
    "\n",
    "person.get(\"location\", \"Not Found\")  # Using get method to access a key"
   ]
  },
  {
   "cell_type": "code",
   "execution_count": null,
   "id": "a833d48f",
   "metadata": {},
   "outputs": [
    {
     "name": "stdout",
     "output_type": "stream",
     "text": [
      "Inception\n",
      "dict_keys(['title', 'rating', 'actor'])\n",
      "dict_values(['Inception', 9.0, 'Leonardo DiCaprio'])\n",
      "{'title': 'Inception', 'rating': 9.0, 'actor': 'Leonardo DiCaprio', 'director': 'Christopher Nolan'}\n"
     ]
    }
   ],
   "source": [
    "## Create a dictionary with movie data(title,year,rating )\n",
    "movie= {\n",
    "    \"title\": \"Inception\",\n",
    "    \"year\": 2010,\n",
    "    \"rating\": 8.8\n",
    "}\n",
    "print(movie[\"title\"])  # Accessing the title of the movie\n",
    "movie['rating'] = 9.0  # Updating "
   ]
  },
  {
   "cell_type": "markdown",
   "id": "bd7648cb",
   "metadata": {},
   "source": [
    "# Type casting"
   ]
  },
  {
   "cell_type": "code",
   "execution_count": 54,
   "id": "e0b7f28a",
   "metadata": {},
   "outputs": [
    {
     "name": "stdout",
     "output_type": "stream",
     "text": [
      "[1, 2, 3, 4, 5, 6]\n",
      "Converted tuple: (1, 2, 3, 4, 5, 6)\n"
     ]
    }
   ],
   "source": [
    "del list\n",
    "my_tuple = (1, 2, 3, 4, 5)\n",
    "my_list = list(my_tuple)  # Converting tuple to list\n",
    "my_list.append(6)  # Adding an element to the list\n",
    "print(my_list)\n",
    "my_tuple = tuple(my_list)  # Converting back to tuple\n",
    "print(\"Converted tuple:\", my_tuple)  # Displaying the modified tuple"
   ]
  },
  {
   "cell_type": "markdown",
   "id": "ddf0f2f2",
   "metadata": {},
   "source": [
    "# Sets"
   ]
  },
  {
   "cell_type": "code",
   "execution_count": 57,
   "id": "085923df",
   "metadata": {},
   "outputs": [
    {
     "name": "stdout",
     "output_type": "stream",
     "text": [
      "{'orange', 'apple', 'banana', 'cherry'}\n",
      "{'apple', 'banana', 'mango', 'kiwi', 'orange', 'cherry'}\n"
     ]
    }
   ],
   "source": [
    "#Duplicate values will be removed automatically in a set\n",
    "fruits_set= {\"apple\", \"banana\", \"cherry\", \"apple\"}  # Creating a set with duplicate values\n",
    "\n",
    "\n",
    "#Add items\n",
    "fruits_set.add(\"orange\")  # Adding a new item to the set\n",
    "print(fruits_set)\n",
    "fruits_set.update([\"kiwi\", \"mango\"])  # Adding multiple items to the set\n",
    "print(fruits_set)"
   ]
  },
  {
   "cell_type": "markdown",
   "id": "d87dc4d3",
   "metadata": {},
   "source": [
    "# Union"
   ]
  },
  {
   "cell_type": "code",
   "execution_count": 58,
   "id": "e20d9e87",
   "metadata": {},
   "outputs": [
    {
     "name": "stdout",
     "output_type": "stream",
     "text": [
      "{'b', 'c', 'a', 'd'}\n",
      "{'b'}\n",
      "{'a'}\n",
      "{'a', 'c', 'd'}\n"
     ]
    }
   ],
   "source": [
    "set1= {'a','b'}\n",
    "set2= {'b','c','d'}\n",
    "print(set1.union(set2))  # Union of two sets\n",
    "\n",
    "#Intersection of two sets\n",
    "print(set1.intersection(set2))  # Intersection of two sets\n",
    "\n",
    "#Difference of two sets\n",
    "print(set1.difference(set2))  # Difference of two sets\n",
    "\n",
    "#Symmetric difference of two sets\n",
    "print(set1.symmetric_difference(set2))  # Symmetric difference of two sets"
   ]
  },
  {
   "cell_type": "code",
   "execution_count": null,
   "id": "17a63640",
   "metadata": {},
   "outputs": [],
   "source": []
  }
 ],
 "metadata": {
  "kernelspec": {
   "display_name": "tutorial-env",
   "language": "python",
   "name": "python3"
  },
  "language_info": {
   "codemirror_mode": {
    "name": "ipython",
    "version": 3
   },
   "file_extension": ".py",
   "mimetype": "text/x-python",
   "name": "python",
   "nbconvert_exporter": "python",
   "pygments_lexer": "ipython3",
   "version": "3.13.3"
  }
 },
 "nbformat": 4,
 "nbformat_minor": 5
}
