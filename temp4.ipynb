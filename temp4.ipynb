{
 "cells": [
  {
   "cell_type": "code",
   "execution_count": 1,
   "id": "417bc632",
   "metadata": {},
   "outputs": [
    {
     "name": "stdout",
     "output_type": "stream",
     "text": [
      "[1, 4, 9, 16, 25]\n"
     ]
    }
   ],
   "source": [
    "# list comprehensions\n",
    "numbers = [1, 2, 3, 4, 5]\n",
    "squared_numbers = [x ** 2 for x in numbers]\n",
    "print(squared_numbers)  # Output: [1, 4, 9, 16, 25]"
   ]
  },
  {
   "cell_type": "code",
   "execution_count": 2,
   "id": "cf621ac0",
   "metadata": {},
   "outputs": [
    {
     "name": "stdout",
     "output_type": "stream",
     "text": [
      "[1, 4, 9, 16, 25]\n"
     ]
    }
   ],
   "source": [
    "numbers = [1, 2, 3, 4, 5]\n",
    "squared_numbers=[]\n",
    "for i in numbers:\n",
    "    squared_numbers.append(i ** 2)\n",
    "print(squared_numbers)  # Output: [1, 4, 9, 16, 25]"
   ]
  },
  {
   "cell_type": "code",
   "execution_count": 4,
   "id": "5042d3ac",
   "metadata": {},
   "outputs": [
    {
     "name": "stdout",
     "output_type": "stream",
     "text": [
      "['Hello', 'World', 'Python', 'Rocks']\n"
     ]
    }
   ],
   "source": [
    "#exercise\n",
    "words = ['hello', 'world', 'python', 'rocks']\n",
    "capitalized_word=[word.title() for word in words]\n",
    "print(capitalized_word)"
   ]
  },
  {
   "cell_type": "code",
   "execution_count": 5,
   "id": "4d6d3cb1",
   "metadata": {},
   "outputs": [
    {
     "name": "stdout",
     "output_type": "stream",
     "text": [
      "['Hello', 'World', 'Python', 'Rocks']\n"
     ]
    }
   ],
   "source": [
    "words = ['hello', 'world', 'python', 'rocks']\n",
    "word=[]\n",
    "for i in words:\n",
    "    word.append(i.title())\n",
    "print(word)\n"
   ]
  },
  {
   "cell_type": "code",
   "execution_count": 7,
   "id": "9642d07b",
   "metadata": {},
   "outputs": [
    {
     "name": "stdout",
     "output_type": "stream",
     "text": [
      "[(2, 5), (3, 4)]\n"
     ]
    }
   ],
   "source": [
    "input_list=[(2,5),(5,2),(3,4)]\n",
    "output_list=[]\n",
    "for pair in input_list:\n",
    "    i,j = pair     #or if pair[0]< pair[1]\n",
    "    if i<j:\n",
    "        output_list.append((pair))\n",
    "print(output_list)  "
   ]
  },
  {
   "cell_type": "code",
   "execution_count": null,
   "id": "0c9d7f18",
   "metadata": {},
   "outputs": [
    {
     "name": "stdout",
     "output_type": "stream",
     "text": [
      "[(2, 5), (3, 4)]\n"
     ]
    }
   ],
   "source": [
    "input_list=[(2,5),(5,2),(3,4)]\n",
    "output_list = [(i, j) for i, j in input_list if i < j]\n",
    "print(output_list)  "
   ]
  },
  {
   "cell_type": "code",
   "execution_count": 26,
   "id": "8b6ea24d",
   "metadata": {},
   "outputs": [
    {
     "name": "stdout",
     "output_type": "stream",
     "text": [
      "7 is a prime number\n"
     ]
    }
   ],
   "source": [
    "n=7\n",
    "count=0\n",
    "for i in range(1, n+1):\n",
    "    \n",
    "    if n%i==0:\n",
    "        count=count+1\n",
    "if count==2:\n",
    "    print(n, \"is a prime number\")\n",
    "else:\n",
    "    print(n, \"is not a prime number\")\n"
   ]
  },
  {
   "cell_type": "markdown",
   "id": "b9d52723",
   "metadata": {},
   "source": [
    "Function in Python"
   ]
  },
  {
   "cell_type": "code",
   "execution_count": null,
   "id": "afbc322b",
   "metadata": {},
   "outputs": [
    {
     "name": "stdout",
     "output_type": "stream",
     "text": [
      "200\n"
     ]
    }
   ],
   "source": [
    "def area_of_rectangle(length=10,width=20):\n",
    "    area=length * width\n",
    "    return area\n",
    "print(area_of_rectangle()) "
   ]
  },
  {
   "cell_type": "code",
   "execution_count": 32,
   "id": "62be817d",
   "metadata": {},
   "outputs": [
    {
     "name": "stdout",
     "output_type": "stream",
     "text": [
      "True\n"
     ]
    }
   ],
   "source": [
    "def is_even(n):\n",
    "    if n % 2 == 0:\n",
    "        return True\n",
    "    else:\n",
    "        return False\n",
    "print(is_even(4))  "
   ]
  },
  {
   "cell_type": "code",
   "execution_count": null,
   "id": "164ce39a",
   "metadata": {},
   "outputs": [
    {
     "name": "stdout",
     "output_type": "stream",
     "text": [
      "[343]\n"
     ]
    }
   ],
   "source": [
    "def list_of_numbers(n):\n",
    "    return [i**2 if i % 2 == 0 else i**3 for i in n]\n",
    "print(list_of_numbers([1, 2, 3, 4, 5, 6]))\n",
    "\n"
   ]
  }
 ],
 "metadata": {
  "kernelspec": {
   "display_name": "venv",
   "language": "python",
   "name": "python3"
  },
  "language_info": {
   "codemirror_mode": {
    "name": "ipython",
    "version": 3
   },
   "file_extension": ".py",
   "mimetype": "text/x-python",
   "name": "python",
   "nbconvert_exporter": "python",
   "pygments_lexer": "ipython3",
   "version": "3.13.2"
  }
 },
 "nbformat": 4,
 "nbformat_minor": 5
}
