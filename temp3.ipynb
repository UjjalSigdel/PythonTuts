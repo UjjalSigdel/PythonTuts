{
 "cells": [
  {
   "cell_type": "markdown",
   "id": "c70b3299",
   "metadata": {},
   "source": [
    "# Conditional\n",
    "\n",
    "if, elif , else"
   ]
  },
  {
   "cell_type": "code",
   "execution_count": 3,
   "id": "4fc4f8ce",
   "metadata": {},
   "outputs": [
    {
     "name": "stdout",
     "output_type": "stream",
     "text": [
      "Greater than 5\n"
     ]
    }
   ],
   "source": [
    "x=10\n",
    "if x>5:\n",
    "    print (\"Greater than 5\")\n",
    "elif x==5:\n",
    "    print (\"Equal to 5\")\n",
    "else:\n",
    "    print (\"Less than 5\")"
   ]
  },
  {
   "cell_type": "markdown",
   "id": "7b00d99e",
   "metadata": {},
   "source": [
    "# Conditional statement using logical operator (and, or, not)"
   ]
  },
  {
   "cell_type": "code",
   "execution_count": 6,
   "id": "0519a13d",
   "metadata": {},
   "outputs": [
    {
     "name": "stdout",
     "output_type": "stream",
     "text": [
      "a is less than b\n",
      "Both conditions are True\n",
      "At least one condition is True\n",
      "a is not greater than 10\n"
     ]
    }
   ],
   "source": [
    "a=5\n",
    "b=6\n",
    "if a>b:\n",
    "    print(\"a is greater than b\")\n",
    "elif a==b:\n",
    "    print(\"a is equal to b\")\n",
    "else:\n",
    "    print(\"a is less than b\")\n",
    "a = 5\n",
    "b = 10\n",
    "\n",
    "if a < 10 and b > 5:\n",
    "    print(\"Both conditions are True\")\n",
    "\n",
    "if a > 10 or b > 5:\n",
    "    print(\"At least one condition is True\")\n",
    "\n",
    "if not a > 10:\n",
    "    print(\"a is not greater than 10\")\n"
   ]
  },
  {
   "cell_type": "markdown",
   "id": "b6897a7b",
   "metadata": {},
   "source": [
    "# Identity (is) vs Equality(==)"
   ]
  },
  {
   "cell_type": "code",
   "execution_count": 10,
   "id": "42bd5b73",
   "metadata": {},
   "outputs": [
    {
     "name": "stdout",
     "output_type": "stream",
     "text": [
      "True\n",
      "False\n",
      "True\n"
     ]
    }
   ],
   "source": [
    "x=[1,2,3]\n",
    "y=[1,2,3]\n",
    "z=x\n",
    "print(x ==y) #true because they have the same content\n",
    "print(x is y) #false because they are different objects\n",
    "print(x is z) #true because z is a reference to x(same object)"
   ]
  },
  {
   "cell_type": "code",
   "execution_count": 11,
   "id": "892a629c",
   "metadata": {},
   "outputs": [
    {
     "data": {
      "text/plain": [
       "(139785389015872, 139785389246272, 139785389015872)"
      ]
     },
     "execution_count": 11,
     "metadata": {},
     "output_type": "execute_result"
    }
   ],
   "source": [
    "\n",
    "\n",
    "id(x), id(y), id(z)\n",
    "\n"
   ]
  },
  {
   "cell_type": "markdown",
   "id": "7793aa00",
   "metadata": {},
   "source": [
    "# Ternary operator\n",
    "The ternary operator allows up to perfom    conditional checks and assign values or perform operation in a single line"
   ]
  },
  {
   "cell_type": "code",
   "execution_count": 12,
   "id": "1d304b70",
   "metadata": {},
   "outputs": [
    {
     "name": "stdout",
     "output_type": "stream",
     "text": [
      "Odd\n"
     ]
    }
   ],
   "source": [
    "n = 5\n",
    "res = \"Even\" if n % 2 == 0 else \"Odd\"\n",
    "print(res)\n"
   ]
  },
  {
   "cell_type": "markdown",
   "id": "3821a4a2",
   "metadata": {},
   "source": [
    "# Loops"
   ]
  },
  {
   "cell_type": "code",
   "execution_count": 32,
   "id": "46b872ab",
   "metadata": {},
   "outputs": [
    {
     "name": "stdout",
     "output_type": "stream",
     "text": [
      "apple\n",
      "APPLE\n",
      "banana\n",
      "BANANA\n",
      "cherry\n",
      "CHERRY\n",
      "apple\n",
      "banana\n",
      "K\n",
      "K\n",
      "k\n",
      "a\n",
      "A\n",
      "a\n",
      "t\n",
      "T\n",
      "t\n",
      "h\n",
      "H\n",
      "h\n",
      "m\n",
      "M\n",
      "m\n",
      "a\n",
      "A\n",
      "a\n",
      "n\n",
      "N\n",
      "n\n",
      "d\n",
      "D\n",
      "d\n",
      "u\n",
      "U\n",
      "u\n"
     ]
    }
   ],
   "source": [
    "#For loop\n",
    "fruits = [\"apple\", \"banana\", \"cherry\"]\n",
    "for ujjal in fruits:\n",
    "    print(ujjal)\n",
    "    print(ujjal.upper())\n",
    "for i in  fruits[:2]:\n",
    "    print(i)\n",
    "word = \"Kathmandu\"\n",
    "for char in word:\n",
    "    print(char)\n",
    "    print(char.upper())\n",
    "    print(char.lower())"
   ]
  },
  {
   "cell_type": "code",
   "execution_count": 16,
   "id": "b267a04d",
   "metadata": {},
   "outputs": [
    {
     "name": "stdout",
     "output_type": "stream",
     "text": [
      "Ujjal is great\n",
      "Ujjal is great\n",
      "Ujjal is great\n",
      "Ujjal is great\n"
     ]
    }
   ],
   "source": [
    "#while loop\n",
    "count = 0\n",
    "while count < 4:\n",
    "    print(\"Ujjal is great\")\n",
    "    count += 1"
   ]
  },
  {
   "cell_type": "code",
   "execution_count": 22,
   "id": "da39c225",
   "metadata": {},
   "outputs": [
    {
     "name": "stdout",
     "output_type": "stream",
     "text": [
      "0\n",
      "1\n",
      "2\n",
      "3\n",
      "4\n",
      "5\n",
      "Break example: 0\n",
      "Break example: 1\n",
      "Break example: 2\n",
      "Continue example: 0\n",
      "Continue example: 1\n",
      "Continue example: 2\n",
      "Continue example: 4\n"
     ]
    }
   ],
   "source": [
    "#Loop control: break, continue, pass\n",
    "for i in range(6):\n",
    "    print(i)\n",
    "for i in range(5):\n",
    "    if i == 3:\n",
    "        break\n",
    "    print(\"Break example:\", i)\n",
    "for i in range(5):\n",
    "    if i==3:\n",
    "        continue\n",
    "    print(\"Continue example:\", i)"
   ]
  },
  {
   "cell_type": "markdown",
   "id": "38722e7f",
   "metadata": {},
   "source": [
    "# Range\n",
    "range(start,stop,step)"
   ]
  },
  {
   "cell_type": "code",
   "execution_count": 27,
   "id": "04643632",
   "metadata": {},
   "outputs": [
    {
     "name": "stdout",
     "output_type": "stream",
     "text": [
      "2\n",
      "4\n",
      "6\n",
      "8\n",
      "10\n",
      "9\n",
      "8\n",
      "7\n",
      "6\n",
      "5\n",
      "4\n",
      "3\n",
      "2\n"
     ]
    }
   ],
   "source": [
    "for i in range(2,10,2):\n",
    "    print(i)\n",
    "for i in range(10, 1, -1):\n",
    "    print(i)"
   ]
  },
  {
   "cell_type": "code",
   "execution_count": 31,
   "id": "61b9f54d",
   "metadata": {},
   "outputs": [
    {
     "name": "stdout",
     "output_type": "stream",
     "text": [
      "Number list: [1, 2, 3, 4, 5, 6, 7, 8, 9, 10, 11, 12, 13, 14, 15, 16, 17, 18, 19, 20, 21, 22, 23, 24, 25, 26, 27, 28, 29, 30, 31, 32, 33, 34, 35, 36, 37, 38, 39, 40, 41, 42, 43, 44, 45, 46, 47, 48, 49, 50, 51, 52, 53, 54, 55, 56, 57, 58, 59, 60, 61, 62, 63, 64, 65, 66, 67, 68, 69, 70, 71, 72, 73, 74, 75, 76, 77, 78, 79, 80, 81, 82, 83, 84, 85, 86, 87, 88, 89, 90, 91, 92, 93, 94, 95, 96, 97, 98, 99, 100]\n"
     ]
    }
   ],
   "source": [
    "number_list = []\n",
    "for i in range(1,101):\n",
    "    number_list.append(i)\n",
    "print(\"Number list:\", number_list)"
   ]
  },
  {
   "cell_type": "code",
   "execution_count": 33,
   "id": "403de920",
   "metadata": {},
   "outputs": [
    {
     "name": "stdout",
     "output_type": "stream",
     "text": [
      "Number list using list(): [1, 2, 3, 4, 5, 6, 7, 8, 9, 10, 11, 12, 13, 14, 15, 16, 17, 18, 19, 20, 21, 22, 23, 24, 25, 26, 27, 28, 29, 30, 31, 32, 33, 34, 35, 36, 37, 38, 39, 40, 41, 42, 43, 44, 45, 46, 47, 48, 49, 50, 51, 52, 53, 54, 55, 56, 57, 58, 59, 60, 61, 62, 63, 64, 65, 66, 67, 68, 69, 70, 71, 72, 73, 74, 75, 76, 77, 78, 79, 80, 81, 82, 83, 84, 85, 86, 87, 88, 89, 90, 91, 92, 93, 94, 95, 96, 97, 98, 99, 100]\n"
     ]
    }
   ],
   "source": [
    "num_list = list(range(1, 101))\n",
    "print(\"Number list using list():\", num_list)"
   ]
  },
  {
   "cell_type": "code",
   "execution_count": 35,
   "id": "2809c210",
   "metadata": {},
   "outputs": [
    {
     "name": "stdout",
     "output_type": "stream",
     "text": [
      "index 0 has color red\n",
      "index 1 has color green\n",
      "index 2 has color blue\n"
     ]
    }
   ],
   "source": [
    "colors = [\"red\", \"green\", \"blue\"]\n",
    "for index, color in enumerate(colors):\n",
    "    print(f\"index {index} has color {color}\")\n",
    "    # print(index, color)\n"
   ]
  },
  {
   "cell_type": "code",
   "execution_count": 36,
   "id": "e9ca8ec1",
   "metadata": {},
   "outputs": [
    {
     "name": "stdout",
     "output_type": "stream",
     "text": [
      "2 * 1 = 2 \n",
      "2 * 2 = 4 \n",
      "2 * 3 = 6 \n",
      "2 * 4 = 8 \n",
      "2 * 5 = 10 \n",
      "2 * 6 = 12 \n",
      "2 * 7 = 14 \n",
      "2 * 8 = 16 \n",
      "2 * 9 = 18 \n",
      "2 * 10 = 20 \n"
     ]
    }
   ],
   "source": [
    "n = int(input(\"Enter a number: \"))\n",
    "for i in range(1,11):\n",
    "    print(f\"{n} * {i} = {n*i} \")"
   ]
  },
  {
   "cell_type": "code",
   "execution_count": 51,
   "id": "144aebdb",
   "metadata": {},
   "outputs": [
    {
     "name": "stdout",
     "output_type": "stream",
     "text": [
      "The sum of first 5 numbers is 15\n",
      "the sum of first 5 numbers is 15\n",
      "The sum of first 5 numbers is 15\n"
     ]
    }
   ],
   "source": [
    "n = int(input(\"Enter a number:\"))\n",
    "# sum = 0\n",
    "for i in range(1,n+1):\n",
    "    sum = int(sum) + i\n",
    "# print(\"The sum is\",sum)\n",
    "print(f\"The sum of first {n} numbers is {sum}\")\n",
    "print(\"the sum of first\", n, \"numbers is\", sum)\n",
    "\n",
    "#using while loop\n",
    "n = int(input(\"Enter a number: \"))\n",
    "a=n\n",
    "sum = 0\n",
    "while n > 0:\n",
    "    sum += n\n",
    "    n -= 1\n",
    "print(f\"The sum of first {a} numbers is {sum}\")\n",
    "sum = 0"
   ]
  },
  {
   "cell_type": "code",
   "execution_count": 54,
   "id": "713baa19",
   "metadata": {},
   "outputs": [
    {
     "name": "stdout",
     "output_type": "stream",
     "text": [
      "Character count: {'b': 1, 'a': 3, 'n': 2}\n",
      "{'name': 'Ujjal'}\n"
     ]
    }
   ],
   "source": [
    "#5 Write a program that takes a string input from the user and uses a dictionary to count how many times each character appears in the string. Use a loop to iterate over the string.\n",
    "user_input = input(\"Enter a string: \")\n",
    "char_count = {}\n",
    "for char in user_input:\n",
    "    if char in char_count:\n",
    "        char_count[char] += 1 # increment count if char already exists\n",
    "    else:\n",
    "        char_count[char] = 1 # initialize count if char does not exist\n",
    "print(\"Character count:\", char_count) # print the dictionary with character counts\n",
    "\n",
    "ujjal = {}\n",
    "ujjal[\"name\"] = \"Ujjal\"\n",
    "print(ujjal)"
   ]
  },
  {
   "cell_type": "code",
   "execution_count": null,
   "id": "ccfb51ef",
   "metadata": {},
   "outputs": [
    {
     "name": "stdout",
     "output_type": "stream",
     "text": [
      "Even numbers: [2, 4]\n"
     ]
    }
   ],
   "source": [
    "#6 \n",
    "numbers = [1, 2, 3, 4, 5]\n",
    "new_numbers = []\n",
    "for num in numbers:\n",
    "    if i%2 == 0:\n",
    "        new_numbers.append(num)\n",
    "print(\"Even numbers:\", new_numbers)\n"
   ]
  },
  {
   "cell_type": "code",
   "execution_count": null,
   "id": "0ae5dc5a",
   "metadata": {},
   "outputs": [],
   "source": []
  }
 ],
 "metadata": {
  "kernelspec": {
   "display_name": "tutorial-env",
   "language": "python",
   "name": "python3"
  },
  "language_info": {
   "codemirror_mode": {
    "name": "ipython",
    "version": 3
   },
   "file_extension": ".py",
   "mimetype": "text/x-python",
   "name": "python",
   "nbconvert_exporter": "python",
   "pygments_lexer": "ipython3",
   "version": "3.13.3"
  }
 },
 "nbformat": 4,
 "nbformat_minor": 5
}
